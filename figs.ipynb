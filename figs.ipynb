{
 "cells": [
  {
   "cell_type": "code",
   "execution_count": 15,
   "metadata": {},
   "outputs": [],
   "source": [
    "import pandas as pd\n",
    "import numpy as np\n",
    "import matplotlib.pyplot as plt\n",
    "import os\n",
    "from scipy.signal import savgol_filter\n",
    "import seaborn as sns\n",
    "from sklearn.metrics import mean_squared_error\n",
    "from sklearn.metrics import mean_absolute_error\n",
    "from sklearn.metrics import r2_score"
   ]
  },
  {
   "cell_type": "code",
   "execution_count": 16,
   "metadata": {},
   "outputs": [],
   "source": [
    "plt.rcParams['font.sans-serif'] = ['Microsoft YaHei']"
   ]
  },
  {
   "cell_type": "markdown",
   "metadata": {},
   "source": [
    "# 电流、电压、温度循环对比"
   ]
  },
  {
   "cell_type": "code",
   "execution_count": null,
   "metadata": {},
   "outputs": [],
   "source": [
    "data_5 = pd.read_excel('E:\\\\毕业设计\\\\毕业\\\\V0\\\\data\\\\放电参数对比.xlsx',sheet_name=0)\n",
    "data_105 = pd.read_excel('E:\\\\毕业设计\\\\毕业\\\\V0\\\\data\\\\放电参数对比.xlsx',sheet_name=1)\n",
    "data_305 = pd.read_excel('E:\\\\毕业设计\\\\毕业\\\\V0\\\\data\\\\放电参数对比.xlsx',sheet_name=2)"
   ]
  },
  {
   "cell_type": "markdown",
   "metadata": {},
   "source": [
    "### 第5个循环"
   ]
  },
  {
   "cell_type": "code",
   "execution_count": null,
   "metadata": {},
   "outputs": [],
   "source": [
    "Ia1_5 = data_5.iloc[:,0]\n",
    "Ib1_5 = data_5.iloc[:,1]\n",
    "Ea1_5 = data_5.iloc[:,2]\n",
    "Eb1_5 = data_5.iloc[:,3]\n",
    "Ta1_5 = data_5.iloc[:,4]\n",
    "Tb1_5 = data_5.iloc[:,5]"
   ]
  },
  {
   "cell_type": "code",
   "execution_count": null,
   "metadata": {},
   "outputs": [],
   "source": [
    "plt.plot(Ia1_5, label = 'Cell_1')\n",
    "plt.plot(Ib1_5, label = 'Cell_2')\n",
    "plt.ylim(-7,3)\n",
    "plt.xlabel('时间点/s')\n",
    "plt.ylabel('电流/A')\n",
    "plt.legend()\n",
    "plt.grid(linestyle='-.')\n",
    "plt.savefig('E:\\\\毕业设计\\\\毕业\\\\V0\\\\figs\\\\第五章\\\\电流_5.png',dpi=600)\n",
    "plt.show()"
   ]
  },
  {
   "cell_type": "code",
   "execution_count": null,
   "metadata": {},
   "outputs": [],
   "source": [
    "plt.plot(Ea1_5, label = 'Cell_1')\n",
    "plt.plot(Eb1_5, label = 'Cell_2')\n",
    "#plt.ylim(-4,0)\n",
    "plt.xlabel('时间点/s')\n",
    "plt.ylabel('电压/V')\n",
    "plt.legend()\n",
    "plt.grid(linestyle='-.')\n",
    "plt.savefig('E:\\\\毕业设计\\\\毕业\\\\V0\\\\figs\\\\第五章\\\\电压_5.png',dpi=600)\n",
    "plt.show()"
   ]
  },
  {
   "cell_type": "code",
   "execution_count": null,
   "metadata": {},
   "outputs": [],
   "source": [
    "plt.plot(Ta1_5, label = 'Cell_1')\n",
    "plt.plot(Tb1_5, label = 'Cell_2')\n",
    "#plt.ylim(-4,0)\n",
    "plt.xlabel('时间点/s')\n",
    "plt.ylabel('温度/℃')\n",
    "plt.legend()\n",
    "plt.grid(linestyle='-.')\n",
    "plt.savefig('E:\\\\毕业设计\\\\毕业\\\\V0\\\\figs\\\\第五章\\\\温度_5.png',dpi=600)\n",
    "plt.show()"
   ]
  },
  {
   "cell_type": "markdown",
   "metadata": {},
   "source": [
    "### 第105个循环"
   ]
  },
  {
   "cell_type": "code",
   "execution_count": null,
   "metadata": {},
   "outputs": [],
   "source": [
    "Ia1_105 = data_105.iloc[:,0]\n",
    "Ib1_105 = data_105.iloc[:,1]\n",
    "Ea1_105 = data_105.iloc[:,2]\n",
    "Eb1_105 = data_105.iloc[:,3]\n",
    "Ta1_105 = data_105.iloc[:,4]\n",
    "Tb1_105 = data_105.iloc[:,5]"
   ]
  },
  {
   "cell_type": "code",
   "execution_count": null,
   "metadata": {},
   "outputs": [],
   "source": [
    "plt.plot(Ia1_105, label = 'Cell_1')\n",
    "plt.plot(Ib1_105, label = 'Cell_2')\n",
    "plt.ylim(-7,3)\n",
    "plt.xlabel('时间点/s')\n",
    "plt.ylabel('电流/A')\n",
    "plt.legend()\n",
    "plt.grid(linestyle='-.')\n",
    "plt.savefig('E:\\\\毕业设计\\\\毕业\\\\V0\\\\figs\\\\第五章\\\\电流_105.png',dpi=600)\n",
    "plt.show()"
   ]
  },
  {
   "cell_type": "code",
   "execution_count": null,
   "metadata": {},
   "outputs": [],
   "source": [
    "plt.plot(Ea1_105, label = 'Cell_1')\n",
    "plt.plot(Eb1_105, label = 'Cell_2')\n",
    "#plt.ylim(-4,0)\n",
    "plt.xlabel('时间点/s')\n",
    "plt.ylabel('电压/V')\n",
    "plt.legend()\n",
    "plt.grid(linestyle='-.')\n",
    "plt.savefig('E:\\\\毕业设计\\\\毕业\\\\V0\\\\figs\\\\第五章\\\\电压_105.png',dpi=600)\n",
    "\n",
    "\n",
    "plt.show()"
   ]
  },
  {
   "cell_type": "code",
   "execution_count": null,
   "metadata": {},
   "outputs": [],
   "source": [
    "fig = plt.figure()\n",
    "\n",
    "left, bottom, width, height = 0.1,0.1,0.8,0.8\n",
    "ax1 = fig.add_axes([left,bottom,width,height])\n",
    "ax1.plot(Ea1_105, label = 'Cell_1')\n",
    "ax1.plot(Eb1_105, label = 'Cell_2')\n",
    "plt.legend()\n",
    "ax1.set_xlabel('时间点/s')\n",
    "ax1.set_ylabel('电压/V')\n",
    "plt.grid(linestyle='-.')\n",
    "left, bottom, width, height = 0.2,0.25,0.25,0.25\n",
    "ax2 = fig.add_axes([left,bottom,width,height])\n",
    "ax2.plot(Ea1_105[820:])\n",
    "ax2.plot(Eb1_105[820:])\n",
    "ax2.set_xlabel('时间点/s')\n",
    "ax2.set_ylabel('电压/V')\n",
    "\n",
    "plt.grid(linestyle='-.')\n",
    "plt.savefig('E:\\\\毕业设计\\\\毕业\\\\V0\\\\figs\\\\第五章\\\\电压_105.png',dpi=600)"
   ]
  },
  {
   "cell_type": "code",
   "execution_count": null,
   "metadata": {},
   "outputs": [],
   "source": [
    "plt.plot(Ta1_105, label = 'Cell_1')\n",
    "plt.plot(Tb1_105, label = 'Cell_2')\n",
    "#plt.ylim(-4,0)\n",
    "plt.xlabel('时间点/s')\n",
    "plt.ylabel('温度/℃')\n",
    "plt.legend()\n",
    "plt.grid(linestyle='-.')\n",
    "plt.savefig('E:\\\\毕业设计\\\\毕业\\\\V0\\\\figs\\\\第五章\\\\温度_105.png',dpi=600)\n",
    "plt.show()"
   ]
  },
  {
   "cell_type": "markdown",
   "metadata": {},
   "source": [
    "### 第305个循环"
   ]
  },
  {
   "cell_type": "code",
   "execution_count": null,
   "metadata": {},
   "outputs": [],
   "source": [
    "Ia1_305 = data_305.iloc[:,0]\n",
    "Ib1_305 = data_305.iloc[:,1]\n",
    "Ea1_305 = data_305.iloc[:,2]\n",
    "Eb1_305 = data_305.iloc[:,3]\n",
    "Ta1_305 = data_305.iloc[:,4]\n",
    "Tb1_305 = data_305.iloc[:,5]"
   ]
  },
  {
   "cell_type": "code",
   "execution_count": null,
   "metadata": {},
   "outputs": [],
   "source": [
    "plt.plot(Ia1_305, label = 'Cell_1')\n",
    "plt.plot(Ib1_305, label = 'Cell_2')\n",
    "plt.ylim(-7,3)\n",
    "plt.xlabel('时间点/s')\n",
    "plt.ylabel('电流/A')\n",
    "plt.legend()\n",
    "plt.grid(linestyle='-.')\n",
    "plt.savefig('E:\\\\毕业设计\\\\毕业\\\\V0\\\\figs\\\\第五章\\\\电流_305.png',dpi=600)\n",
    "plt.show()"
   ]
  },
  {
   "cell_type": "code",
   "execution_count": null,
   "metadata": {},
   "outputs": [],
   "source": [
    "plt.plot(Ea1_305, label = 'Cell_1')\n",
    "plt.plot(Eb1_305, label = 'Cell_2')\n",
    "#plt.ylim(-4,0)\n",
    "plt.xlabel('时间点/s')\n",
    "plt.ylabel('电压/V')\n",
    "plt.legend()\n",
    "plt.grid(linestyle='-.')\n",
    "plt.savefig('E:\\\\毕业设计\\\\毕业\\\\V0\\\\figs\\\\第五章\\\\电压_305.png',dpi=600)\n",
    "plt.show()"
   ]
  },
  {
   "cell_type": "code",
   "execution_count": null,
   "metadata": {},
   "outputs": [],
   "source": [
    "plt.plot(Ta1_305, label = 'Cell_1')\n",
    "plt.plot(Tb1_305, label = 'Cell_2')\n",
    "#plt.ylim(-4,0)\n",
    "plt.xlabel('时间点/s')\n",
    "plt.ylabel('温度/℃')\n",
    "plt.legend()\n",
    "plt.grid(linestyle='-.')\n",
    "plt.savefig('E:\\\\毕业设计\\\\毕业\\\\V0\\\\figs\\\\第五章\\\\温度_305.png',dpi=600)\n",
    "plt.show()\n"
   ]
  },
  {
   "cell_type": "markdown",
   "metadata": {},
   "source": [
    "# 放电参数与容量对比"
   ]
  },
  {
   "cell_type": "code",
   "execution_count": null,
   "metadata": {},
   "outputs": [],
   "source": [
    "data = pd.read_csv('E:\\\\毕业设计\\\\毕业\\\\V0\\\\data\\\\放电参数.csv')"
   ]
  },
  {
   "cell_type": "code",
   "execution_count": null,
   "metadata": {},
   "outputs": [],
   "source": [
    "Pack_PS = data.iloc[:,4]\n",
    "Ea_mid = data.iloc[:,5]\n",
    "Ea_var = data.iloc[:,6]\n",
    "Ea_mu = data.iloc[:,7]\n",
    "Eb_mid = data.iloc[:,8]\n",
    "Eb_var = data.iloc[:,9]\n",
    "Eb_mu = data.iloc[:,10]\n",
    "Ia_mid = data.iloc[:,11]\n",
    "Ia_var = data.iloc[:,12]\n",
    "Ia_mu = data.iloc[:,13]\n",
    "Ib_mid = data.iloc[:,14]\n",
    "Ib_var = data.iloc[:,15]\n",
    "Ib_mu = data.iloc[:,16]\n",
    "Ta_mid = data.iloc[:,17]\n",
    "Ta_var = data.iloc[:,18]\n",
    "Ta_mu = data.iloc[:,19]\n",
    "Tb_mid = data.iloc[:,20]\n",
    "Tb_var = data.iloc[:,21]\n",
    "Tb_mu = data.iloc[:,22]"
   ]
  },
  {
   "cell_type": "code",
   "execution_count": null,
   "metadata": {},
   "outputs": [],
   "source": [
    "fig, ax1 = plt.subplots()\n",
    "ax2 = ax1.twinx()\n",
    "ax1.plot(Pack_PS, label='放电容量')\n",
    "ax1.legend()\n",
    "ax1.set_ylabel('容量/mAh')\n",
    "ax2.plot(Ia_mid, 'g-', label='电流中位数')\n",
    "ax2.set_ylabel('电流/A')\n",
    "ax1.set_xlabel('循环数')\n",
    "ax2.legend(loc=(0.73,0.77))\n",
    "ax1.grid(linestyle='-.')\n",
    "plt.savefig('E:\\\\毕业设计\\\\毕业\\\\V0\\\\figs\\\\第五章\\\\容量_电流中位数.png',dpi=600)"
   ]
  },
  {
   "cell_type": "code",
   "execution_count": null,
   "metadata": {},
   "outputs": [],
   "source": [
    "fig, ax1 = plt.subplots()\n",
    "ax2 = ax1.twinx()\n",
    "ax1.plot(Pack_PS, label='放电容量')\n",
    "ax1.legend()\n",
    "ax1.set_ylabel('容量/mAh')\n",
    "ax2.plot(Ia_mu, 'g-', label='电流均值')\n",
    "ax2.set_ylabel('电流/A')\n",
    "ax1.set_xlabel('循环数')\n",
    "ax2.legend(loc=(0.76,0.77))\n",
    "ax1.grid(linestyle='-.')\n",
    "plt.savefig('E:\\\\毕业设计\\\\毕业\\\\V0\\\\figs\\\\第五章\\\\容量_电流均值.png',dpi=600)"
   ]
  },
  {
   "cell_type": "code",
   "execution_count": null,
   "metadata": {},
   "outputs": [],
   "source": [
    "fig, ax1 = plt.subplots()\n",
    "ax2 = ax1.twinx()\n",
    "ax1.plot(Pack_PS, label='放电容量')\n",
    "ax1.legend()\n",
    "ax1.set_ylabel('容量/mAh')\n",
    "ax2.plot(Ia_var, 'g-', label='电流方差')\n",
    "ax2.set_ylabel('电流方差值/A2')\n",
    "ax1.set_xlabel('循环数')\n",
    "ax2.legend(loc=(0.76,0.77))\n",
    "ax1.grid(linestyle='-.')\n",
    "plt.savefig('E:\\\\毕业设计\\\\毕业\\\\V0\\\\figs\\\\第五章\\\\容量_电流方差.png',dpi=600)"
   ]
  },
  {
   "cell_type": "code",
   "execution_count": null,
   "metadata": {},
   "outputs": [],
   "source": [
    "fig, ax1 = plt.subplots()\n",
    "ax2 = ax1.twinx()\n",
    "ax1.plot(Pack_PS, label='放电容量')\n",
    "ax1.legend()\n",
    "ax1.set_ylabel('容量/mAh')\n",
    "ax2.plot(Ea_mu, 'g-', label='电压均值')\n",
    "ax2.set_ylim(2,6)\n",
    "ax2.set_ylabel('电压/V')\n",
    "ax1.set_xlabel('循环数')\n",
    "ax2.legend(loc=(0.76,0.77))\n",
    "ax1.grid(linestyle='-.')\n",
    "plt.savefig('E:\\\\毕业设计\\\\毕业\\\\V0\\\\figs\\\\第五章\\\\容量_电压均值.png',dpi=600)"
   ]
  },
  {
   "cell_type": "code",
   "execution_count": null,
   "metadata": {},
   "outputs": [],
   "source": [
    "fig, ax1 = plt.subplots()\n",
    "ax2 = ax1.twinx()\n",
    "ax1.plot(Pack_PS, label='放电容量')\n",
    "ax1.legend()\n",
    "ax1.set_ylabel('容量/mAh')\n",
    "ax2.plot(Ea_mid, 'g-', label='电压中位数')\n",
    "ax2.set_ylim(2,6)\n",
    "ax2.set_ylabel('电压/V')\n",
    "ax1.set_xlabel('循环数')\n",
    "ax2.legend(loc=(0.73,0.77))\n",
    "ax1.grid(linestyle='-.')\n",
    "plt.savefig('E:\\\\毕业设计\\\\毕业\\\\V0\\\\figs\\\\第五章\\\\容量_电压中位数.png',dpi=600)"
   ]
  },
  {
   "cell_type": "code",
   "execution_count": null,
   "metadata": {},
   "outputs": [],
   "source": [
    "fig, ax1 = plt.subplots()\n",
    "ax2 = ax1.twinx()\n",
    "ax1.plot(Pack_PS, label='放电容量')\n",
    "ax1.legend()\n",
    "ax1.set_ylabel('容量/mAh')\n",
    "ax2.plot(Ea_var, 'g-', label='电压方差')\n",
    "ax2.set_ylim(-0.3,0.42)\n",
    "ax2.set_ylabel('电压方差值/V2')\n",
    "ax1.set_xlabel('循环数')\n",
    "ax2.legend(loc=(0.76,0.77))\n",
    "ax1.grid(linestyle='-.')\n",
    "plt.savefig('E:\\\\毕业设计\\\\毕业\\\\V0\\\\figs\\\\第五章\\\\容量_电压方差.png',dpi=600)"
   ]
  },
  {
   "cell_type": "code",
   "execution_count": null,
   "metadata": {},
   "outputs": [],
   "source": [
    "fig, ax1 = plt.subplots()\n",
    "ax2 = ax1.twinx()\n",
    "ax1.plot(Pack_PS, label='放电容量')\n",
    "ax1.legend()\n",
    "ax1.set_ylabel('容量/mAh')\n",
    "ax2.plot(Ta_mu, 'g-', label='温度均值')\n",
    "ax2.set_ylim(10,40)\n",
    "ax2.set_ylabel('温度/℃')\n",
    "ax1.set_xlabel('循环数')\n",
    "ax2.legend(loc=(0.76,0.77))\n",
    "ax1.grid(linestyle='-.')\n",
    "plt.savefig('E:\\\\毕业设计\\\\毕业\\\\V0\\\\figs\\\\第五章\\\\容量_温度均值.png',dpi=600)"
   ]
  },
  {
   "cell_type": "code",
   "execution_count": null,
   "metadata": {},
   "outputs": [],
   "source": [
    "fig, ax1 = plt.subplots()\n",
    "ax2 = ax1.twinx()\n",
    "ax1.plot(Pack_PS, label='放电容量')\n",
    "ax1.legend()\n",
    "ax1.set_ylabel('容量/mAh')\n",
    "ax2.plot(Ta_mid, 'g-', label='温度中位数')\n",
    "ax2.set_ylim(10,40)\n",
    "ax2.set_ylabel('温度/℃')\n",
    "ax1.set_xlabel('循环数')\n",
    "ax2.legend(loc=(0.73,0.77))\n",
    "ax1.grid(linestyle='-.')\n",
    "plt.savefig('E:\\\\毕业设计\\\\毕业\\\\V0\\\\figs\\\\第五章\\\\容量_温度中位数.png',dpi=600)"
   ]
  },
  {
   "cell_type": "code",
   "execution_count": null,
   "metadata": {},
   "outputs": [],
   "source": [
    "fig, ax1 = plt.subplots()\n",
    "ax2 = ax1.twinx()\n",
    "ax1.plot(Pack_PS, label='放电容量')\n",
    "ax1.legend()\n",
    "ax1.set_ylabel('容量/mAh')\n",
    "ax2.plot(Ta_var, 'g-', label='温度方差')\n",
    "ax2.set_ylim(-10,20)\n",
    "ax2.set_ylabel('温度方差值/℃2')\n",
    "ax1.set_xlabel('循环数')\n",
    "ax2.legend(loc=(0.76,0.77))\n",
    "ax1.grid(linestyle='-.')\n",
    "plt.savefig('E:\\\\毕业设计\\\\毕业\\\\V0\\\\figs\\\\第五章\\\\容量_温度方差.png',dpi=600)"
   ]
  },
  {
   "cell_type": "markdown",
   "metadata": {},
   "source": [
    "# 容量预测结果"
   ]
  },
  {
   "cell_type": "code",
   "execution_count": null,
   "metadata": {},
   "outputs": [],
   "source": [
    "capacity = pd.read_csv('E:\\\\毕业设计\\\\毕业\\\\V0\\\\data\\\\容量预测结果_全CNN模型.csv')"
   ]
  },
  {
   "cell_type": "code",
   "execution_count": null,
   "metadata": {},
   "outputs": [],
   "source": [
    "capacity"
   ]
  },
  {
   "cell_type": "code",
   "execution_count": null,
   "metadata": {},
   "outputs": [],
   "source": [
    "pre = capacity.iloc[:,0]\n",
    "real = capacity.iloc[:,1]\n",
    "plt.plot(pre, color='g', label='预测值')\n",
    "plt.plot(real,color='orange', label='真实值')\n",
    "plt.grid(linestyle='-.')\n",
    "plt.xlabel('循环数')\n",
    "plt.ylabel('容量mAh')\n",
    "plt.legend()\n",
    "plt.savefig('E:\\\\毕业设计\\\\毕业\\\\V0\\\\figs\\\\第五章\\\\容量预测.png',dpi=600)"
   ]
  },
  {
   "cell_type": "code",
   "execution_count": null,
   "metadata": {},
   "outputs": [],
   "source": [
    "pre = capacity.iloc[263:,0]\n",
    "real = capacity.iloc[263:,1]\n",
    "plt.plot(pre,'^-', color='g', label='预测值')\n",
    "plt.plot(real,'o-',color='orange', label='真实值')\n",
    "plt.grid(linestyle='-.')\n",
    "#plt.legend()\n",
    "plt.savefig('E:\\\\毕业设计\\\\毕业\\\\V0\\\\figs\\\\第五章\\\\容量预测细节.png',dpi=600)"
   ]
  },
  {
   "cell_type": "code",
   "execution_count": null,
   "metadata": {},
   "outputs": [],
   "source": [
    "pre_mse = mean_squared_error(pre, real)"
   ]
  },
  {
   "cell_type": "code",
   "execution_count": null,
   "metadata": {},
   "outputs": [],
   "source": [
    "pre_rmse = np.sqrt(pre_mse)"
   ]
  },
  {
   "cell_type": "code",
   "execution_count": null,
   "metadata": {},
   "outputs": [],
   "source": [
    "pre_mae = mean_absolute_error(pre, real)"
   ]
  },
  {
   "cell_type": "code",
   "execution_count": null,
   "metadata": {},
   "outputs": [],
   "source": [
    "pre_mape = np.mean((real - pre) / real)"
   ]
  },
  {
   "cell_type": "code",
   "execution_count": null,
   "metadata": {},
   "outputs": [],
   "source": [
    "pre_r2 = r2_score(pre,real)"
   ]
  },
  {
   "cell_type": "code",
   "execution_count": null,
   "metadata": {},
   "outputs": [],
   "source": [
    "print(pre_mse)\n",
    "print(pre_rmse)\n",
    "print(pre_mae)\n",
    "print(pre_mape)\n",
    "print(pre_r2)"
   ]
  },
  {
   "cell_type": "markdown",
   "metadata": {},
   "source": [
    "# 容量预测箱型线"
   ]
  },
  {
   "cell_type": "code",
   "execution_count": 6,
   "metadata": {},
   "outputs": [],
   "source": [
    "capacity = pd.read_csv('E:\\\\毕业设计\\\\毕业\\\\V0\\\\data\\\\容量预测结果_全CNN模型.csv')"
   ]
  },
  {
   "cell_type": "code",
   "execution_count": 7,
   "metadata": {},
   "outputs": [
    {
     "data": {
      "text/html": [
       "<div>\n",
       "<style scoped>\n",
       "    .dataframe tbody tr th:only-of-type {\n",
       "        vertical-align: middle;\n",
       "    }\n",
       "\n",
       "    .dataframe tbody tr th {\n",
       "        vertical-align: top;\n",
       "    }\n",
       "\n",
       "    .dataframe thead th {\n",
       "        text-align: right;\n",
       "    }\n",
       "</style>\n",
       "<table border=\"1\" class=\"dataframe\">\n",
       "  <thead>\n",
       "    <tr style=\"text-align: right;\">\n",
       "      <th></th>\n",
       "      <th>Predict</th>\n",
       "      <th>Real</th>\n",
       "    </tr>\n",
       "  </thead>\n",
       "  <tbody>\n",
       "    <tr>\n",
       "      <th>0</th>\n",
       "      <td>NaN</td>\n",
       "      <td>3925.343701</td>\n",
       "    </tr>\n",
       "    <tr>\n",
       "      <th>1</th>\n",
       "      <td>NaN</td>\n",
       "      <td>3934.395833</td>\n",
       "    </tr>\n",
       "    <tr>\n",
       "      <th>2</th>\n",
       "      <td>NaN</td>\n",
       "      <td>3937.287161</td>\n",
       "    </tr>\n",
       "    <tr>\n",
       "      <th>3</th>\n",
       "      <td>NaN</td>\n",
       "      <td>3930.261238</td>\n",
       "    </tr>\n",
       "    <tr>\n",
       "      <th>4</th>\n",
       "      <td>NaN</td>\n",
       "      <td>3950.819146</td>\n",
       "    </tr>\n",
       "    <tr>\n",
       "      <th>...</th>\n",
       "      <td>...</td>\n",
       "      <td>...</td>\n",
       "    </tr>\n",
       "    <tr>\n",
       "      <th>309</th>\n",
       "      <td>3574.6802</td>\n",
       "      <td>3583.108381</td>\n",
       "    </tr>\n",
       "    <tr>\n",
       "      <th>310</th>\n",
       "      <td>3611.1030</td>\n",
       "      <td>3603.877500</td>\n",
       "    </tr>\n",
       "    <tr>\n",
       "      <th>311</th>\n",
       "      <td>3598.3070</td>\n",
       "      <td>3596.480834</td>\n",
       "    </tr>\n",
       "    <tr>\n",
       "      <th>312</th>\n",
       "      <td>3632.3376</td>\n",
       "      <td>3628.975000</td>\n",
       "    </tr>\n",
       "    <tr>\n",
       "      <th>313</th>\n",
       "      <td>3636.9330</td>\n",
       "      <td>3634.898389</td>\n",
       "    </tr>\n",
       "  </tbody>\n",
       "</table>\n",
       "<p>314 rows × 2 columns</p>\n",
       "</div>"
      ],
      "text/plain": [
       "       Predict         Real\n",
       "0          NaN  3925.343701\n",
       "1          NaN  3934.395833\n",
       "2          NaN  3937.287161\n",
       "3          NaN  3930.261238\n",
       "4          NaN  3950.819146\n",
       "..         ...          ...\n",
       "309  3574.6802  3583.108381\n",
       "310  3611.1030  3603.877500\n",
       "311  3598.3070  3596.480834\n",
       "312  3632.3376  3628.975000\n",
       "313  3636.9330  3634.898389\n",
       "\n",
       "[314 rows x 2 columns]"
      ]
     },
     "execution_count": 7,
     "metadata": {},
     "output_type": "execute_result"
    }
   ],
   "source": [
    "capacity"
   ]
  },
  {
   "cell_type": "code",
   "execution_count": 5,
   "metadata": {},
   "outputs": [
    {
     "data": {
      "text/plain": [
       "10     0.001102\n",
       "11     0.003116\n",
       "12     0.006144\n",
       "13     0.003071\n",
       "14     0.003392\n",
       "         ...   \n",
       "309    0.002352\n",
       "310    0.002005\n",
       "311    0.000508\n",
       "312    0.000927\n",
       "313    0.000560\n",
       "Length: 304, dtype: float64"
      ]
     },
     "execution_count": 5,
     "metadata": {},
     "output_type": "execute_result"
    }
   ],
   "source": [
    "abs(capacity['Predict'][10:]-capacity['Real'][10:]) / capacity['Real'][10:]"
   ]
  },
  {
   "cell_type": "code",
   "execution_count": 11,
   "metadata": {},
   "outputs": [],
   "source": [
    "pre = capacity['Predict'][10:]\n",
    "real = capacity['Real'][10:]"
   ]
  },
  {
   "cell_type": "code",
   "execution_count": 12,
   "metadata": {},
   "outputs": [],
   "source": [
    "data_20 = pd.Series(abs(pre[:20]-real[:20]) / real[:20])\n",
    "data_50 = pd.Series(abs(pre[:50]-real[:50]) / real[:50])\n",
    "data_100 = pd.Series(abs(pre[:100]-real[:100]) / real[:100])\n",
    "data_304 = pd.Series(abs(pre-real) / real)"
   ]
  },
  {
   "cell_type": "code",
   "execution_count": 24,
   "metadata": {},
   "outputs": [
    {
     "data": {
      "image/png": "[encoded data removed]",
      "text/plain": [
       "<Figure size 432x288 with 1 Axes>"
      ]
     },
     "metadata": {
      "needs_background": "light"
     },
     "output_type": "display_data"
    }
   ],
   "source": [
    "sns.boxplot(data=data,palette=\"Set3\")\n",
    "plt.grid(linestyle='-.')\n",
    "plt.xlabel('循环数')\n",
    "plt.ylabel('相对误差')\n",
    "plt.savefig('E:\\\\毕业设计\\\\毕业\\\\V0\\\\figs\\\\第五章\\\\箱型图.png',dpi=600)"
   ]
  },
  {
   "cell_type": "code",
   "execution_count": 26,
   "metadata": {},
   "outputs": [
    {
     "data": {
      "text/html": [
       "<div>\n",
       "<style scoped>\n",
       "    .dataframe tbody tr th:only-of-type {\n",
       "        vertical-align: middle;\n",
       "    }\n",
       "\n",
       "    .dataframe tbody tr th {\n",
       "        vertical-align: top;\n",
       "    }\n",
       "\n",
       "    .dataframe thead th {\n",
       "        text-align: right;\n",
       "    }\n",
       "</style>\n",
       "<table border=\"1\" class=\"dataframe\">\n",
       "  <thead>\n",
       "    <tr style=\"text-align: right;\">\n",
       "      <th></th>\n",
       "      <th>20</th>\n",
       "      <th>50</th>\n",
       "      <th>100</th>\n",
       "      <th>320</th>\n",
       "    </tr>\n",
       "  </thead>\n",
       "  <tbody>\n",
       "    <tr>\n",
       "      <th>count</th>\n",
       "      <td>20.000000</td>\n",
       "      <td>50.000000</td>\n",
       "      <td>100.000000</td>\n",
       "      <td>3.040000e+02</td>\n",
       "    </tr>\n",
       "    <tr>\n",
       "      <th>mean</th>\n",
       "      <td>0.003743</td>\n",
       "      <td>0.002715</td>\n",
       "      <td>0.003099</td>\n",
       "      <td>2.888361e-03</td>\n",
       "    </tr>\n",
       "    <tr>\n",
       "      <th>std</th>\n",
       "      <td>0.002593</td>\n",
       "      <td>0.002255</td>\n",
       "      <td>0.002325</td>\n",
       "      <td>2.355465e-03</td>\n",
       "    </tr>\n",
       "    <tr>\n",
       "      <th>min</th>\n",
       "      <td>0.000052</td>\n",
       "      <td>0.000052</td>\n",
       "      <td>0.000016</td>\n",
       "      <td>1.035058e-08</td>\n",
       "    </tr>\n",
       "    <tr>\n",
       "      <th>25%</th>\n",
       "      <td>0.001260</td>\n",
       "      <td>0.000858</td>\n",
       "      <td>0.001099</td>\n",
       "      <td>1.070392e-03</td>\n",
       "    </tr>\n",
       "    <tr>\n",
       "      <th>50%</th>\n",
       "      <td>0.003242</td>\n",
       "      <td>0.002385</td>\n",
       "      <td>0.002584</td>\n",
       "      <td>2.383284e-03</td>\n",
       "    </tr>\n",
       "    <tr>\n",
       "      <th>75%</th>\n",
       "      <td>0.006178</td>\n",
       "      <td>0.003426</td>\n",
       "      <td>0.004719</td>\n",
       "      <td>4.203675e-03</td>\n",
       "    </tr>\n",
       "    <tr>\n",
       "      <th>max</th>\n",
       "      <td>0.008131</td>\n",
       "      <td>0.008131</td>\n",
       "      <td>0.008751</td>\n",
       "      <td>1.248648e-02</td>\n",
       "    </tr>\n",
       "  </tbody>\n",
       "</table>\n",
       "</div>"
      ],
      "text/plain": [
       "              20         50         100           320\n",
       "count  20.000000  50.000000  100.000000  3.040000e+02\n",
       "mean    0.003743   0.002715    0.003099  2.888361e-03\n",
       "std     0.002593   0.002255    0.002325  2.355465e-03\n",
       "min     0.000052   0.000052    0.000016  1.035058e-08\n",
       "25%     0.001260   0.000858    0.001099  1.070392e-03\n",
       "50%     0.003242   0.002385    0.002584  2.383284e-03\n",
       "75%     0.006178   0.003426    0.004719  4.203675e-03\n",
       "max     0.008131   0.008131    0.008751  1.248648e-02"
      ]
     },
     "execution_count": 26,
     "metadata": {},
     "output_type": "execute_result"
    }
   ],
   "source": [
    "data.describe()"
   ]
  },
  {
   "cell_type": "markdown",
   "metadata": {},
   "source": [
    "# 概率预测曲线图"
   ]
  },
  {
   "cell_type": "code",
   "execution_count": 24,
   "metadata": {},
   "outputs": [],
   "source": [
    "data = pd.read_csv('E:\\\\毕业设计\\\\毕业\\\\V0\\data\\\\状态概率预测.csv')"
   ]
  },
  {
   "cell_type": "code",
   "execution_count": 25,
   "metadata": {},
   "outputs": [
    {
     "data": {
      "text/html": [
       "<div>\n",
       "<style scoped>\n",
       "    .dataframe tbody tr th:only-of-type {\n",
       "        vertical-align: middle;\n",
       "    }\n",
       "\n",
       "    .dataframe tbody tr th {\n",
       "        vertical-align: top;\n",
       "    }\n",
       "\n",
       "    .dataframe thead th {\n",
       "        text-align: right;\n",
       "    }\n",
       "</style>\n",
       "<table border=\"1\" class=\"dataframe\">\n",
       "  <thead>\n",
       "    <tr style=\"text-align: right;\">\n",
       "      <th></th>\n",
       "      <th>0</th>\n",
       "      <th>1</th>\n",
       "      <th>2</th>\n",
       "    </tr>\n",
       "  </thead>\n",
       "  <tbody>\n",
       "    <tr>\n",
       "      <th>0</th>\n",
       "      <td>0.920497</td>\n",
       "      <td>0.069013</td>\n",
       "      <td>0.010490</td>\n",
       "    </tr>\n",
       "    <tr>\n",
       "      <th>1</th>\n",
       "      <td>0.915278</td>\n",
       "      <td>0.070061</td>\n",
       "      <td>0.014661</td>\n",
       "    </tr>\n",
       "    <tr>\n",
       "      <th>2</th>\n",
       "      <td>0.911983</td>\n",
       "      <td>0.070063</td>\n",
       "      <td>0.017954</td>\n",
       "    </tr>\n",
       "    <tr>\n",
       "      <th>3</th>\n",
       "      <td>0.910454</td>\n",
       "      <td>0.069113</td>\n",
       "      <td>0.020433</td>\n",
       "    </tr>\n",
       "    <tr>\n",
       "      <th>4</th>\n",
       "      <td>0.910527</td>\n",
       "      <td>0.067309</td>\n",
       "      <td>0.022164</td>\n",
       "    </tr>\n",
       "    <tr>\n",
       "      <th>...</th>\n",
       "      <td>...</td>\n",
       "      <td>...</td>\n",
       "      <td>...</td>\n",
       "    </tr>\n",
       "    <tr>\n",
       "      <th>299</th>\n",
       "      <td>0.129960</td>\n",
       "      <td>0.143900</td>\n",
       "      <td>0.726140</td>\n",
       "    </tr>\n",
       "    <tr>\n",
       "      <th>300</th>\n",
       "      <td>0.118104</td>\n",
       "      <td>0.139697</td>\n",
       "      <td>0.742199</td>\n",
       "    </tr>\n",
       "    <tr>\n",
       "      <th>301</th>\n",
       "      <td>0.103559</td>\n",
       "      <td>0.134013</td>\n",
       "      <td>0.762428</td>\n",
       "    </tr>\n",
       "    <tr>\n",
       "      <th>302</th>\n",
       "      <td>0.086163</td>\n",
       "      <td>0.126778</td>\n",
       "      <td>0.787059</td>\n",
       "    </tr>\n",
       "    <tr>\n",
       "      <th>303</th>\n",
       "      <td>0.065749</td>\n",
       "      <td>0.117921</td>\n",
       "      <td>0.816330</td>\n",
       "    </tr>\n",
       "  </tbody>\n",
       "</table>\n",
       "<p>304 rows × 3 columns</p>\n",
       "</div>"
      ],
      "text/plain": [
       "            0         1         2\n",
       "0    0.920497  0.069013  0.010490\n",
       "1    0.915278  0.070061  0.014661\n",
       "2    0.911983  0.070063  0.017954\n",
       "3    0.910454  0.069113  0.020433\n",
       "4    0.910527  0.067309  0.022164\n",
       "..        ...       ...       ...\n",
       "299  0.129960  0.143900  0.726140\n",
       "300  0.118104  0.139697  0.742199\n",
       "301  0.103559  0.134013  0.762428\n",
       "302  0.086163  0.126778  0.787059\n",
       "303  0.065749  0.117921  0.816330\n",
       "\n",
       "[304 rows x 3 columns]"
      ]
     },
     "execution_count": 25,
     "metadata": {},
     "output_type": "execute_result"
    }
   ],
   "source": [
    "data"
   ]
  },
  {
   "cell_type": "code",
   "execution_count": 32,
   "metadata": {},
   "outputs": [],
   "source": [
    "state_1 = np.array(data['0'])\n",
    "state_2 = np.array(data['1'])\n",
    "state_3 = np.array(data['2'])"
   ]
  },
  {
   "cell_type": "code",
   "execution_count": 45,
   "metadata": {},
   "outputs": [],
   "source": [
    "state_1 = savgol_filter(state_1,55,1)\n",
    "state_2 = savgol_filter(state_2,55,1)\n",
    "state_3 = savgol_filter(state_3,55,1)"
   ]
  },
  {
   "cell_type": "code",
   "execution_count": 46,
   "metadata": {},
   "outputs": [
    {
     "data": {
      "image/png": "[encoded data removed]",
      "text/plain": [
       "<Figure size 360x144 with 1 Axes>"
      ]
     },
     "metadata": {
      "needs_background": "light"
     },
     "output_type": "display_data"
    }
   ],
   "source": [
    "plt.figure(figsize=(5,2))\n",
    "plt.plot(state_1, label='健康')\n",
    "plt.plot(state_2, label='退化')\n",
    "plt.plot(state_3, label='失效')\n",
    "plt.xlabel('循环数')\n",
    "plt.ylabel('概率值')\n",
    "plt.grid(linestyle='-.')\n",
    "plt.legend(loc=1)\n",
    "plt.savefig('E:\\\\毕业设计\\\\毕业\\\\V0\\\\figs\\\\第五章\\\\概率预测.png',dpi=600)"
   ]
  },
  {
   "cell_type": "markdown",
   "metadata": {},
   "source": [
    "# 多状态划分"
   ]
  },
  {
   "cell_type": "code",
   "execution_count": 6,
   "metadata": {},
   "outputs": [],
   "source": [
    "capacity = pd.read_csv('E:\\\\毕业设计\\\\毕业\\\\V0\\\\data\\\\放电参数.csv')"
   ]
  },
  {
   "cell_type": "code",
   "execution_count": 7,
   "metadata": {},
   "outputs": [],
   "source": [
    "Cell_1 = capacity['Ia_PS'] / max(capacity['Ia_PS'])\n",
    "Cell_2 = capacity['Ib_PS'] / max(capacity['Ib_PS'])\n",
    "Pack = capacity['Pack'] / max(capacity['Pack'])"
   ]
  },
  {
   "cell_type": "code",
   "execution_count": 14,
   "metadata": {},
   "outputs": [
    {
     "data": {
      "image/png": "[encoded data removed]",
      "text/plain": [
       "<Figure size 432x288 with 1 Axes>"
      ]
     },
     "metadata": {
      "needs_background": "light"
     },
     "output_type": "display_data"
    }
   ],
   "source": [
    "plt.plot(Cell_1,label='Cell_1')\n",
    "plt.plot(Cell_2,label='Cell_2')\n",
    "plt.plot(Pack,label='Pack')\n",
    "plt.grid(linestyle='-.')\n",
    "plt.legend()\n",
    "plt.xlabel('循环数')\n",
    "plt.ylabel('C')\n",
    "plt.savefig('E:\\\\毕业设计\\\\毕业\\\\V0\\\\figs\\\\第五章\\\\多状态划分.png',dpi=600)"
   ]
  },
  {
   "cell_type": "code",
   "execution_count": null,
   "metadata": {},
   "outputs": [],
   "source": []
  }
 ],
 "metadata": {
  "kernelspec": {
   "display_name": "Python 3",
   "language": "python",
   "name": "python3"
  },
  "language_info": {
   "codemirror_mode": {
    "name": "ipython",
    "version": 3
   },
   "file_extension": ".py",
   "mimetype": "text/x-python",
   "name": "python",
   "nbconvert_exporter": "python",
   "pygments_lexer": "ipython3",
   "version": "3.7.9"
  }
 },
 "nbformat": 4,
 "nbformat_minor": 4
}
