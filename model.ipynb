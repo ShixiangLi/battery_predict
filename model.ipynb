{
 "cells": [
  {
   "cell_type": "markdown",
   "metadata": {},
   "source": [
    "# Full CNN"
   ]
  },
  {
   "cell_type": "code",
   "execution_count": 1,
   "metadata": {},
   "outputs": [],
   "source": [
    "import numpy as np\n",
    "import pandas as pd\n",
    "import tensorflow.keras as keras\n",
    "from tensorflow.keras import layers\n",
    "from tensorflow.keras import models\n",
    "from tensorflow.keras.utils import plot_model\n",
    "from tensorflow.keras import optimizers\n",
    "import matplotlib.pyplot as plt\n",
    "from sklearn.preprocessing import MinMaxScaler\n",
    "from keras.callbacks import EarlyStopping"
   ]
  },
  {
   "cell_type": "markdown",
   "metadata": {},
   "source": [
    "# 读取数据"
   ]
  },
  {
   "cell_type": "code",
   "execution_count": null,
   "metadata": {},
   "outputs": [],
   "source": [
    "X = np.load('E:\\\\毕业设计\\\\毕业\\\\V0\\\\data\\\\data_processed\\\\X.npy')\n",
    "y = np.load('E:\\\\毕业设计\\\\毕业\\\\V0\\\\data\\\\data_processed\\\\y.npy')"
   ]
  },
  {
   "cell_type": "code",
   "execution_count": null,
   "metadata": {},
   "outputs": [],
   "source": [
    "Scaler = MinMaxScaler()\n",
    "X = X.reshape(-1,1)\n",
    "X = Scaler.fit_transform(X)\n",
    "X = X.reshape(304,1000,10,6)\n",
    "y = y.reshape(-1,1)\n",
    "y = Scaler.fit_transform(y)"
   ]
  },
  {
   "cell_type": "markdown",
   "metadata": {},
   "source": [
    "# 建立模型"
   ]
  },
  {
   "cell_type": "code",
   "execution_count": null,
   "metadata": {},
   "outputs": [],
   "source": [
    "model_1 = models.Sequential()\n",
    "model_1.add(layers.Conv2D(64,(3,3), activation='relu',padding='same', input_shape=(1000,10,6)))\n",
    "model_1.add(layers.MaxPooling2D((2,2)))\n",
    "model_1.add(layers.Conv2D(64,(3,3),padding='same',activation='relu'))\n",
    "model_1.add(layers.MaxPooling2D((2,2)))\n",
    "model_1.add(layers.Conv2D(128,(3,3),padding='same',activation='relu'))\n",
    "model_1.add(layers.Flatten())\n",
    "model_1.add(layers.Dropout(0.5))\n",
    "#model_1.add(layers.Lambda(lambda x: keras.backend.expand_dims(x, axis=-1)))\n",
    "#model_1.add(layers.LSTM(units=128, return_sequences=True))\n",
    "model_1.add(layers.Dense(128,activation='relu'))\n",
    "model_1.add(layers.Dense(64,activation='relu'))\n",
    "model_1.add(layers.Dense(1,activation='relu'))"
   ]
  },
  {
   "cell_type": "code",
   "execution_count": null,
   "metadata": {},
   "outputs": [],
   "source": [
    "model_1.summary()"
   ]
  },
  {
   "cell_type": "code",
   "execution_count": null,
   "metadata": {},
   "outputs": [],
   "source": [
    "model_1.compile(optimizer=optimizers.Adam(lr=0.0001),\n",
    "               loss='mse',\n",
    "               metrics=['mae']\n",
    "               )"
   ]
  },
  {
   "cell_type": "code",
   "execution_count": null,
   "metadata": {},
   "outputs": [],
   "source": [
    "early_stopping = EarlyStopping(monitor='val_loss', patience=50, verbose=2)\n",
    "model_1.fit(X,y,epochs=200,batch_size=5,callbacks=[early_stopping])"
   ]
  },
  {
   "cell_type": "code",
   "execution_count": null,
   "metadata": {},
   "outputs": [],
   "source": [
    "res = model_1.predict(X)"
   ]
  },
  {
   "cell_type": "code",
   "execution_count": null,
   "metadata": {},
   "outputs": [],
   "source": [
    "plt.plot(Scaler.inverse_transform(res))\n",
    "plt.plot(Scaler.inverse_transform(y))"
   ]
  },
  {
   "cell_type": "code",
   "execution_count": null,
   "metadata": {},
   "outputs": [],
   "source": [
    "res = Scaler.inverse_transform(res)\n",
    "res = pd.DataFrame(res)\n",
    "res.to_csv('E:\\\\毕业设计\\\\毕业\\\\V0\\\\data\\\\容量预测结果_全CNN模型.csv',index=False,encoding=\"utf_8_sig\")"
   ]
  },
  {
   "cell_type": "code",
   "execution_count": null,
   "metadata": {},
   "outputs": [],
   "source": [
    "model_1.save('E:\\\\毕业设计\\\\毕业\\\\V0\\\\data\\model\\\\full_cnn.h5')"
   ]
  },
  {
   "cell_type": "markdown",
   "metadata": {},
   "source": [
    "# 预测概率分布"
   ]
  },
  {
   "cell_type": "code",
   "execution_count": 2,
   "metadata": {},
   "outputs": [],
   "source": [
    "import numpy as np\n",
    "import pandas as pd\n",
    "import tensorflow.keras as keras\n",
    "from tensorflow.keras import layers\n",
    "from tensorflow.keras import models\n",
    "from tensorflow.keras.utils import plot_model\n",
    "from tensorflow.keras import optimizers\n",
    "import matplotlib.pyplot as plt\n",
    "from sklearn.preprocessing import MinMaxScaler\n",
    "from keras.callbacks import EarlyStopping\n",
    "from scipy.signal import savgol_filter"
   ]
  },
  {
   "cell_type": "code",
   "execution_count": 16,
   "metadata": {},
   "outputs": [],
   "source": [
    "X = np.load('E:\\\\毕业设计\\\\毕业\\\\V0\\\\data\\\\data_processed\\\\X.npy')\n",
    "y = np.load('E:\\\\毕业设计\\\\毕业\\\\V0\\\\data\\\\data_processed\\\\y.npy')"
   ]
  },
  {
   "cell_type": "code",
   "execution_count": 17,
   "metadata": {},
   "outputs": [],
   "source": [
    "Scaler = MinMaxScaler()\n",
    "X = X.reshape(-1,1)\n",
    "X = Scaler.fit_transform(X)\n",
    "X = X.reshape(304,1000,10,6)"
   ]
  },
  {
   "cell_type": "code",
   "execution_count": 18,
   "metadata": {},
   "outputs": [],
   "source": [
    "for i in range(304):\n",
    "    if i < 150:\n",
    "        y[i] = 0\n",
    "    elif i < 250:\n",
    "        y[i] = 1\n",
    "    else:\n",
    "        y[i] = 2"
   ]
  },
  {
   "cell_type": "code",
   "execution_count": 19,
   "metadata": {},
   "outputs": [],
   "source": [
    "model_1 = models.Sequential()\n",
    "model_1.add(layers.Conv2D(64,(3,3), activation='relu',padding='same', input_shape=(1000,10,6)))\n",
    "model_1.add(layers.MaxPooling2D((2,2)))\n",
    "model_1.add(layers.Conv2D(64,(3,3),padding='same',activation='relu'))\n",
    "model_1.add(layers.MaxPooling2D((2,2)))\n",
    "model_1.add(layers.Conv2D(128,(3,3),padding='same',activation='relu'))\n",
    "model_1.add(layers.Flatten())\n",
    "model_1.add(layers.Dropout(0.5))\n",
    "#model_1.add(layers.Lambda(lambda x: keras.backend.expand_dims(x, axis=-1)))\n",
    "#model_1.add(layers.LSTM(units=128, return_sequences=True))\n",
    "model_1.add(layers.Dense(128,activation='relu'))\n",
    "model_1.add(layers.Dense(64,activation='relu'))\n",
    "model_1.add(layers.Dense(3,activation='softmax'))"
   ]
  },
  {
   "cell_type": "code",
   "execution_count": 20,
   "metadata": {},
   "outputs": [],
   "source": [
    "model_1.compile(optimizer=optimizers.Adam(lr=0.0001),\n",
    "               loss='sparse_categorical_crossentropy',\n",
    "               metrics=['accuracy']\n",
    "               )"
   ]
  },
  {
   "cell_type": "code",
   "execution_count": 21,
   "metadata": {},
   "outputs": [
    {
     "name": "stdout",
     "output_type": "stream",
     "text": [
      "Epoch 1/50\n",
      "61/61 [==============================] - 7s 109ms/step - loss: 1.0783 - accuracy: 0.4309\n",
      "Epoch 2/50\n",
      "61/61 [==============================] - 8s 127ms/step - loss: 1.0483 - accuracy: 0.4474\n",
      "Epoch 3/50\n",
      "61/61 [==============================] - 8s 129ms/step - loss: 1.0444 - accuracy: 0.4934\n",
      "Epoch 4/50\n",
      "61/61 [==============================] - 8s 123ms/step - loss: 1.0355 - accuracy: 0.4934\n",
      "Epoch 5/50\n",
      "61/61 [==============================] - 8s 124ms/step - loss: 1.0332 - accuracy: 0.4770\n",
      "Epoch 6/50\n",
      "61/61 [==============================] - 7s 119ms/step - loss: 1.0213 - accuracy: 0.5132\n",
      "Epoch 7/50\n",
      "61/61 [==============================] - 7s 111ms/step - loss: 1.0108 - accuracy: 0.5033\n",
      "Epoch 8/50\n",
      "61/61 [==============================] - 7s 113ms/step - loss: 0.9840 - accuracy: 0.5296\n",
      "Epoch 9/50\n",
      "61/61 [==============================] - 7s 111ms/step - loss: 1.0260 - accuracy: 0.4704\n",
      "Epoch 10/50\n",
      "61/61 [==============================] - 7s 109ms/step - loss: 0.9414 - accuracy: 0.5428\n",
      "Epoch 11/50\n",
      "61/61 [==============================] - 7s 109ms/step - loss: 0.9756 - accuracy: 0.5099\n",
      "Epoch 12/50\n",
      "61/61 [==============================] - 7s 109ms/step - loss: 0.9694 - accuracy: 0.5263\n",
      "Epoch 13/50\n",
      "61/61 [==============================] - 7s 111ms/step - loss: 0.9341 - accuracy: 0.5197\n",
      "Epoch 14/50\n",
      "61/61 [==============================] - 7s 110ms/step - loss: 0.9206 - accuracy: 0.5724\n",
      "Epoch 15/50\n",
      "61/61 [==============================] - 7s 109ms/step - loss: 0.9038 - accuracy: 0.5789\n",
      "Epoch 16/50\n",
      "61/61 [==============================] - 7s 109ms/step - loss: 0.9356 - accuracy: 0.5230\n",
      "Epoch 17/50\n",
      "61/61 [==============================] - 7s 110ms/step - loss: 0.8804 - accuracy: 0.6020\n",
      "Epoch 18/50\n",
      "61/61 [==============================] - 7s 109ms/step - loss: 0.8464 - accuracy: 0.5987\n",
      "Epoch 19/50\n",
      "61/61 [==============================] - 7s 110ms/step - loss: 0.8581 - accuracy: 0.5625\n",
      "Epoch 20/50\n",
      "61/61 [==============================] - 7s 109ms/step - loss: 0.7909 - accuracy: 0.6184\n",
      "Epoch 21/50\n",
      "61/61 [==============================] - 7s 109ms/step - loss: 0.7836 - accuracy: 0.5888\n",
      "Epoch 22/50\n",
      "61/61 [==============================] - 7s 109ms/step - loss: 0.8011 - accuracy: 0.5789\n",
      "Epoch 23/50\n",
      "61/61 [==============================] - 7s 110ms/step - loss: 0.8105 - accuracy: 0.5888\n",
      "Epoch 24/50\n",
      "61/61 [==============================] - 7s 110ms/step - loss: 0.7615 - accuracy: 0.6053\n",
      "Epoch 25/50\n",
      "61/61 [==============================] - 7s 109ms/step - loss: 0.6901 - accuracy: 0.6678\n",
      "Epoch 26/50\n",
      "61/61 [==============================] - 7s 109ms/step - loss: 0.7113 - accuracy: 0.6941\n",
      "Epoch 27/50\n",
      "61/61 [==============================] - 7s 110ms/step - loss: 0.6410 - accuracy: 0.7007\n",
      "Epoch 28/50\n",
      "61/61 [==============================] - 7s 109ms/step - loss: 0.6528 - accuracy: 0.7105\n",
      "Epoch 29/50\n",
      "61/61 [==============================] - 7s 109ms/step - loss: 0.5901 - accuracy: 0.7566\n",
      "Epoch 30/50\n",
      "61/61 [==============================] - 7s 108ms/step - loss: 0.5427 - accuracy: 0.7829\n",
      "Epoch 31/50\n",
      "61/61 [==============================] - 7s 111ms/step - loss: 0.5185 - accuracy: 0.7632\n",
      "Epoch 32/50\n",
      "61/61 [==============================] - 7s 109ms/step - loss: 0.4477 - accuracy: 0.8092\n",
      "Epoch 33/50\n",
      "61/61 [==============================] - 7s 109ms/step - loss: 0.4929 - accuracy: 0.7566\n",
      "Epoch 34/50\n",
      "61/61 [==============================] - 7s 111ms/step - loss: 0.4370 - accuracy: 0.8158\n",
      "Epoch 35/50\n",
      "61/61 [==============================] - 7s 109ms/step - loss: 0.4578 - accuracy: 0.7961\n",
      "Epoch 36/50\n",
      "61/61 [==============================] - 7s 109ms/step - loss: 0.3986 - accuracy: 0.8322\n",
      "Epoch 37/50\n",
      "61/61 [==============================] - 7s 115ms/step - loss: 0.3852 - accuracy: 0.8520\n",
      "Epoch 38/50\n",
      "11/61 [====>.........................] - ETA: 5s - loss: 0.3432 - accuracy: 0.9091"
     ]
    },
    {
     "ename": "KeyboardInterrupt",
     "evalue": "",
     "output_type": "error",
     "traceback": [
      "\u001b[1;31m---------------------------------------------------------------------------\u001b[0m",
      "\u001b[1;31mKeyboardInterrupt\u001b[0m                         Traceback (most recent call last)",
      "\u001b[1;32m<ipython-input-21-8edac49c66dc>\u001b[0m in \u001b[0;36m<module>\u001b[1;34m\u001b[0m\n\u001b[1;32m----> 1\u001b[1;33m \u001b[0mmodel_1\u001b[0m\u001b[1;33m.\u001b[0m\u001b[0mfit\u001b[0m\u001b[1;33m(\u001b[0m\u001b[0mX\u001b[0m\u001b[1;33m,\u001b[0m\u001b[0my\u001b[0m\u001b[1;33m,\u001b[0m\u001b[0mepochs\u001b[0m\u001b[1;33m=\u001b[0m\u001b[1;36m50\u001b[0m\u001b[1;33m,\u001b[0m\u001b[0mbatch_size\u001b[0m\u001b[1;33m=\u001b[0m\u001b[1;36m5\u001b[0m\u001b[1;33m)\u001b[0m\u001b[1;33m\u001b[0m\u001b[1;33m\u001b[0m\u001b[0m\n\u001b[0m",
      "\u001b[1;32m~\\AppData\\Roaming\\Python\\Python37\\site-packages\\tensorflow\\python\\keras\\engine\\training.py\u001b[0m in \u001b[0;36m_method_wrapper\u001b[1;34m(self, *args, **kwargs)\u001b[0m\n\u001b[0;32m    106\u001b[0m   \u001b[1;32mdef\u001b[0m \u001b[0m_method_wrapper\u001b[0m\u001b[1;33m(\u001b[0m\u001b[0mself\u001b[0m\u001b[1;33m,\u001b[0m \u001b[1;33m*\u001b[0m\u001b[0margs\u001b[0m\u001b[1;33m,\u001b[0m \u001b[1;33m**\u001b[0m\u001b[0mkwargs\u001b[0m\u001b[1;33m)\u001b[0m\u001b[1;33m:\u001b[0m\u001b[1;33m\u001b[0m\u001b[1;33m\u001b[0m\u001b[0m\n\u001b[0;32m    107\u001b[0m     \u001b[1;32mif\u001b[0m \u001b[1;32mnot\u001b[0m \u001b[0mself\u001b[0m\u001b[1;33m.\u001b[0m\u001b[0m_in_multi_worker_mode\u001b[0m\u001b[1;33m(\u001b[0m\u001b[1;33m)\u001b[0m\u001b[1;33m:\u001b[0m  \u001b[1;31m# pylint: disable=protected-access\u001b[0m\u001b[1;33m\u001b[0m\u001b[1;33m\u001b[0m\u001b[0m\n\u001b[1;32m--> 108\u001b[1;33m       \u001b[1;32mreturn\u001b[0m \u001b[0mmethod\u001b[0m\u001b[1;33m(\u001b[0m\u001b[0mself\u001b[0m\u001b[1;33m,\u001b[0m \u001b[1;33m*\u001b[0m\u001b[0margs\u001b[0m\u001b[1;33m,\u001b[0m \u001b[1;33m**\u001b[0m\u001b[0mkwargs\u001b[0m\u001b[1;33m)\u001b[0m\u001b[1;33m\u001b[0m\u001b[1;33m\u001b[0m\u001b[0m\n\u001b[0m\u001b[0;32m    109\u001b[0m \u001b[1;33m\u001b[0m\u001b[0m\n\u001b[0;32m    110\u001b[0m     \u001b[1;31m# Running inside `run_distribute_coordinator` already.\u001b[0m\u001b[1;33m\u001b[0m\u001b[1;33m\u001b[0m\u001b[1;33m\u001b[0m\u001b[0m\n",
      "\u001b[1;32m~\\AppData\\Roaming\\Python\\Python37\\site-packages\\tensorflow\\python\\keras\\engine\\training.py\u001b[0m in \u001b[0;36mfit\u001b[1;34m(self, x, y, batch_size, epochs, verbose, callbacks, validation_split, validation_data, shuffle, class_weight, sample_weight, initial_epoch, steps_per_epoch, validation_steps, validation_batch_size, validation_freq, max_queue_size, workers, use_multiprocessing)\u001b[0m\n\u001b[0;32m   1096\u001b[0m                 batch_size=batch_size):\n\u001b[0;32m   1097\u001b[0m               \u001b[0mcallbacks\u001b[0m\u001b[1;33m.\u001b[0m\u001b[0mon_train_batch_begin\u001b[0m\u001b[1;33m(\u001b[0m\u001b[0mstep\u001b[0m\u001b[1;33m)\u001b[0m\u001b[1;33m\u001b[0m\u001b[1;33m\u001b[0m\u001b[0m\n\u001b[1;32m-> 1098\u001b[1;33m               \u001b[0mtmp_logs\u001b[0m \u001b[1;33m=\u001b[0m \u001b[0mtrain_function\u001b[0m\u001b[1;33m(\u001b[0m\u001b[0miterator\u001b[0m\u001b[1;33m)\u001b[0m\u001b[1;33m\u001b[0m\u001b[1;33m\u001b[0m\u001b[0m\n\u001b[0m\u001b[0;32m   1099\u001b[0m               \u001b[1;32mif\u001b[0m \u001b[0mdata_handler\u001b[0m\u001b[1;33m.\u001b[0m\u001b[0mshould_sync\u001b[0m\u001b[1;33m:\u001b[0m\u001b[1;33m\u001b[0m\u001b[1;33m\u001b[0m\u001b[0m\n\u001b[0;32m   1100\u001b[0m                 \u001b[0mcontext\u001b[0m\u001b[1;33m.\u001b[0m\u001b[0masync_wait\u001b[0m\u001b[1;33m(\u001b[0m\u001b[1;33m)\u001b[0m\u001b[1;33m\u001b[0m\u001b[1;33m\u001b[0m\u001b[0m\n",
      "\u001b[1;32m~\\AppData\\Roaming\\Python\\Python37\\site-packages\\tensorflow\\python\\eager\\def_function.py\u001b[0m in \u001b[0;36m__call__\u001b[1;34m(self, *args, **kwds)\u001b[0m\n\u001b[0;32m    778\u001b[0m       \u001b[1;32melse\u001b[0m\u001b[1;33m:\u001b[0m\u001b[1;33m\u001b[0m\u001b[1;33m\u001b[0m\u001b[0m\n\u001b[0;32m    779\u001b[0m         \u001b[0mcompiler\u001b[0m \u001b[1;33m=\u001b[0m \u001b[1;34m\"nonXla\"\u001b[0m\u001b[1;33m\u001b[0m\u001b[1;33m\u001b[0m\u001b[0m\n\u001b[1;32m--> 780\u001b[1;33m         \u001b[0mresult\u001b[0m \u001b[1;33m=\u001b[0m \u001b[0mself\u001b[0m\u001b[1;33m.\u001b[0m\u001b[0m_call\u001b[0m\u001b[1;33m(\u001b[0m\u001b[1;33m*\u001b[0m\u001b[0margs\u001b[0m\u001b[1;33m,\u001b[0m \u001b[1;33m**\u001b[0m\u001b[0mkwds\u001b[0m\u001b[1;33m)\u001b[0m\u001b[1;33m\u001b[0m\u001b[1;33m\u001b[0m\u001b[0m\n\u001b[0m\u001b[0;32m    781\u001b[0m \u001b[1;33m\u001b[0m\u001b[0m\n\u001b[0;32m    782\u001b[0m       \u001b[0mnew_tracing_count\u001b[0m \u001b[1;33m=\u001b[0m \u001b[0mself\u001b[0m\u001b[1;33m.\u001b[0m\u001b[0m_get_tracing_count\u001b[0m\u001b[1;33m(\u001b[0m\u001b[1;33m)\u001b[0m\u001b[1;33m\u001b[0m\u001b[1;33m\u001b[0m\u001b[0m\n",
      "\u001b[1;32m~\\AppData\\Roaming\\Python\\Python37\\site-packages\\tensorflow\\python\\eager\\def_function.py\u001b[0m in \u001b[0;36m_call\u001b[1;34m(self, *args, **kwds)\u001b[0m\n\u001b[0;32m    805\u001b[0m       \u001b[1;31m# In this case we have created variables on the first call, so we run the\u001b[0m\u001b[1;33m\u001b[0m\u001b[1;33m\u001b[0m\u001b[1;33m\u001b[0m\u001b[0m\n\u001b[0;32m    806\u001b[0m       \u001b[1;31m# defunned version which is guaranteed to never create variables.\u001b[0m\u001b[1;33m\u001b[0m\u001b[1;33m\u001b[0m\u001b[1;33m\u001b[0m\u001b[0m\n\u001b[1;32m--> 807\u001b[1;33m       \u001b[1;32mreturn\u001b[0m \u001b[0mself\u001b[0m\u001b[1;33m.\u001b[0m\u001b[0m_stateless_fn\u001b[0m\u001b[1;33m(\u001b[0m\u001b[1;33m*\u001b[0m\u001b[0margs\u001b[0m\u001b[1;33m,\u001b[0m \u001b[1;33m**\u001b[0m\u001b[0mkwds\u001b[0m\u001b[1;33m)\u001b[0m  \u001b[1;31m# pylint: disable=not-callable\u001b[0m\u001b[1;33m\u001b[0m\u001b[1;33m\u001b[0m\u001b[0m\n\u001b[0m\u001b[0;32m    808\u001b[0m     \u001b[1;32melif\u001b[0m \u001b[0mself\u001b[0m\u001b[1;33m.\u001b[0m\u001b[0m_stateful_fn\u001b[0m \u001b[1;32mis\u001b[0m \u001b[1;32mnot\u001b[0m \u001b[1;32mNone\u001b[0m\u001b[1;33m:\u001b[0m\u001b[1;33m\u001b[0m\u001b[1;33m\u001b[0m\u001b[0m\n\u001b[0;32m    809\u001b[0m       \u001b[1;31m# Release the lock early so that multiple threads can perform the call\u001b[0m\u001b[1;33m\u001b[0m\u001b[1;33m\u001b[0m\u001b[1;33m\u001b[0m\u001b[0m\n",
      "\u001b[1;32m~\\AppData\\Roaming\\Python\\Python37\\site-packages\\tensorflow\\python\\eager\\function.py\u001b[0m in \u001b[0;36m__call__\u001b[1;34m(self, *args, **kwargs)\u001b[0m\n\u001b[0;32m   2827\u001b[0m     \u001b[1;32mwith\u001b[0m \u001b[0mself\u001b[0m\u001b[1;33m.\u001b[0m\u001b[0m_lock\u001b[0m\u001b[1;33m:\u001b[0m\u001b[1;33m\u001b[0m\u001b[1;33m\u001b[0m\u001b[0m\n\u001b[0;32m   2828\u001b[0m       \u001b[0mgraph_function\u001b[0m\u001b[1;33m,\u001b[0m \u001b[0margs\u001b[0m\u001b[1;33m,\u001b[0m \u001b[0mkwargs\u001b[0m \u001b[1;33m=\u001b[0m \u001b[0mself\u001b[0m\u001b[1;33m.\u001b[0m\u001b[0m_maybe_define_function\u001b[0m\u001b[1;33m(\u001b[0m\u001b[0margs\u001b[0m\u001b[1;33m,\u001b[0m \u001b[0mkwargs\u001b[0m\u001b[1;33m)\u001b[0m\u001b[1;33m\u001b[0m\u001b[1;33m\u001b[0m\u001b[0m\n\u001b[1;32m-> 2829\u001b[1;33m     \u001b[1;32mreturn\u001b[0m \u001b[0mgraph_function\u001b[0m\u001b[1;33m.\u001b[0m\u001b[0m_filtered_call\u001b[0m\u001b[1;33m(\u001b[0m\u001b[0margs\u001b[0m\u001b[1;33m,\u001b[0m \u001b[0mkwargs\u001b[0m\u001b[1;33m)\u001b[0m  \u001b[1;31m# pylint: disable=protected-access\u001b[0m\u001b[1;33m\u001b[0m\u001b[1;33m\u001b[0m\u001b[0m\n\u001b[0m\u001b[0;32m   2830\u001b[0m \u001b[1;33m\u001b[0m\u001b[0m\n\u001b[0;32m   2831\u001b[0m   \u001b[1;33m@\u001b[0m\u001b[0mproperty\u001b[0m\u001b[1;33m\u001b[0m\u001b[1;33m\u001b[0m\u001b[0m\n",
      "\u001b[1;32m~\\AppData\\Roaming\\Python\\Python37\\site-packages\\tensorflow\\python\\eager\\function.py\u001b[0m in \u001b[0;36m_filtered_call\u001b[1;34m(self, args, kwargs, cancellation_manager)\u001b[0m\n\u001b[0;32m   1846\u001b[0m                            resource_variable_ops.BaseResourceVariable))],\n\u001b[0;32m   1847\u001b[0m         \u001b[0mcaptured_inputs\u001b[0m\u001b[1;33m=\u001b[0m\u001b[0mself\u001b[0m\u001b[1;33m.\u001b[0m\u001b[0mcaptured_inputs\u001b[0m\u001b[1;33m,\u001b[0m\u001b[1;33m\u001b[0m\u001b[1;33m\u001b[0m\u001b[0m\n\u001b[1;32m-> 1848\u001b[1;33m         cancellation_manager=cancellation_manager)\n\u001b[0m\u001b[0;32m   1849\u001b[0m \u001b[1;33m\u001b[0m\u001b[0m\n\u001b[0;32m   1850\u001b[0m   \u001b[1;32mdef\u001b[0m \u001b[0m_call_flat\u001b[0m\u001b[1;33m(\u001b[0m\u001b[0mself\u001b[0m\u001b[1;33m,\u001b[0m \u001b[0margs\u001b[0m\u001b[1;33m,\u001b[0m \u001b[0mcaptured_inputs\u001b[0m\u001b[1;33m,\u001b[0m \u001b[0mcancellation_manager\u001b[0m\u001b[1;33m=\u001b[0m\u001b[1;32mNone\u001b[0m\u001b[1;33m)\u001b[0m\u001b[1;33m:\u001b[0m\u001b[1;33m\u001b[0m\u001b[1;33m\u001b[0m\u001b[0m\n",
      "\u001b[1;32m~\\AppData\\Roaming\\Python\\Python37\\site-packages\\tensorflow\\python\\eager\\function.py\u001b[0m in \u001b[0;36m_call_flat\u001b[1;34m(self, args, captured_inputs, cancellation_manager)\u001b[0m\n\u001b[0;32m   1922\u001b[0m       \u001b[1;31m# No tape is watching; skip to running the function.\u001b[0m\u001b[1;33m\u001b[0m\u001b[1;33m\u001b[0m\u001b[1;33m\u001b[0m\u001b[0m\n\u001b[0;32m   1923\u001b[0m       return self._build_call_outputs(self._inference_function.call(\n\u001b[1;32m-> 1924\u001b[1;33m           ctx, args, cancellation_manager=cancellation_manager))\n\u001b[0m\u001b[0;32m   1925\u001b[0m     forward_backward = self._select_forward_and_backward_functions(\n\u001b[0;32m   1926\u001b[0m         \u001b[0margs\u001b[0m\u001b[1;33m,\u001b[0m\u001b[1;33m\u001b[0m\u001b[1;33m\u001b[0m\u001b[0m\n",
      "\u001b[1;32m~\\AppData\\Roaming\\Python\\Python37\\site-packages\\tensorflow\\python\\eager\\function.py\u001b[0m in \u001b[0;36mcall\u001b[1;34m(self, ctx, args, cancellation_manager)\u001b[0m\n\u001b[0;32m    548\u001b[0m               \u001b[0minputs\u001b[0m\u001b[1;33m=\u001b[0m\u001b[0margs\u001b[0m\u001b[1;33m,\u001b[0m\u001b[1;33m\u001b[0m\u001b[1;33m\u001b[0m\u001b[0m\n\u001b[0;32m    549\u001b[0m               \u001b[0mattrs\u001b[0m\u001b[1;33m=\u001b[0m\u001b[0mattrs\u001b[0m\u001b[1;33m,\u001b[0m\u001b[1;33m\u001b[0m\u001b[1;33m\u001b[0m\u001b[0m\n\u001b[1;32m--> 550\u001b[1;33m               ctx=ctx)\n\u001b[0m\u001b[0;32m    551\u001b[0m         \u001b[1;32melse\u001b[0m\u001b[1;33m:\u001b[0m\u001b[1;33m\u001b[0m\u001b[1;33m\u001b[0m\u001b[0m\n\u001b[0;32m    552\u001b[0m           outputs = execute.execute_with_cancellation(\n",
      "\u001b[1;32m~\\AppData\\Roaming\\Python\\Python37\\site-packages\\tensorflow\\python\\eager\\execute.py\u001b[0m in \u001b[0;36mquick_execute\u001b[1;34m(op_name, num_outputs, inputs, attrs, ctx, name)\u001b[0m\n\u001b[0;32m     58\u001b[0m     \u001b[0mctx\u001b[0m\u001b[1;33m.\u001b[0m\u001b[0mensure_initialized\u001b[0m\u001b[1;33m(\u001b[0m\u001b[1;33m)\u001b[0m\u001b[1;33m\u001b[0m\u001b[1;33m\u001b[0m\u001b[0m\n\u001b[0;32m     59\u001b[0m     tensors = pywrap_tfe.TFE_Py_Execute(ctx._handle, device_name, op_name,\n\u001b[1;32m---> 60\u001b[1;33m                                         inputs, attrs, num_outputs)\n\u001b[0m\u001b[0;32m     61\u001b[0m   \u001b[1;32mexcept\u001b[0m \u001b[0mcore\u001b[0m\u001b[1;33m.\u001b[0m\u001b[0m_NotOkStatusException\u001b[0m \u001b[1;32mas\u001b[0m \u001b[0me\u001b[0m\u001b[1;33m:\u001b[0m\u001b[1;33m\u001b[0m\u001b[1;33m\u001b[0m\u001b[0m\n\u001b[0;32m     62\u001b[0m     \u001b[1;32mif\u001b[0m \u001b[0mname\u001b[0m \u001b[1;32mis\u001b[0m \u001b[1;32mnot\u001b[0m \u001b[1;32mNone\u001b[0m\u001b[1;33m:\u001b[0m\u001b[1;33m\u001b[0m\u001b[1;33m\u001b[0m\u001b[0m\n",
      "\u001b[1;31mKeyboardInterrupt\u001b[0m: "
     ]
    }
   ],
   "source": [
    "model_1.fit(X,y,epochs=50,batch_size=5)"
   ]
  },
  {
   "cell_type": "code",
   "execution_count": 31,
   "metadata": {},
   "outputs": [],
   "source": [
    "res = model_1.predict(X)"
   ]
  },
  {
   "cell_type": "code",
   "execution_count": 40,
   "metadata": {},
   "outputs": [],
   "source": [
    "temp = pd.DataFrame(res)\n",
    "temp.iloc[:,0] = state_1\n",
    "temp.iloc[:,1] = state_2\n",
    "temp.iloc[:,2] = state_3\n",
    "temp.to_csv('E:\\\\毕业设计\\\\毕业\\\\V0\\\\data\\状态概率预测.csv',index=False,encoding=\"utf_8_sig\")"
   ]
  },
  {
   "cell_type": "markdown",
   "metadata": {},
   "source": [
    "# CNN+LSTM混合模型"
   ]
  },
  {
   "cell_type": "markdown",
   "metadata": {},
   "source": [
    "混合模型需要训练好长时间才能效果好，至少要几百个轮次"
   ]
  },
  {
   "cell_type": "code",
   "execution_count": null,
   "metadata": {},
   "outputs": [],
   "source": [
    "import numpy as np\n",
    "import pandas as pd\n",
    "import tensorflow.keras as keras\n",
    "from tensorflow.keras.layers import concatenate, LSTM, Conv1D, Conv2D, Flatten, TimeDistributed, Input, Dense, MaxPooling1D, MaxPooling2D, Dropout, Activation\n",
    "from tensorflow.keras import models\n",
    "from tensorflow.keras.utils import plot_model\n",
    "from tensorflow.keras import optimizers\n",
    "import matplotlib.pyplot as plt\n",
    "from sklearn.preprocessing import MinMaxScaler\n",
    "from keras.callbacks import EarlyStopping"
   ]
  },
  {
   "cell_type": "code",
   "execution_count": null,
   "metadata": {},
   "outputs": [],
   "source": [
    "X = np.load('E:\\\\毕业设计\\\\毕业\\\\V0\\\\data\\\\data_processed\\\\X.npy')\n",
    "y = np.load('E:\\\\毕业设计\\\\毕业\\\\V0\\\\data\\\\data_processed\\\\y.npy')"
   ]
  },
  {
   "cell_type": "code",
   "execution_count": null,
   "metadata": {},
   "outputs": [],
   "source": [
    "Scaler = MinMaxScaler()\n",
    "X = X.reshape(-1,1)\n",
    "X = Scaler.fit_transform(X)\n",
    "X = X.reshape(304,1000,10,6)\n",
    "y = y.reshape(-1,1)\n",
    "y = Scaler.fit_transform(y)"
   ]
  },
  {
   "cell_type": "code",
   "execution_count": null,
   "metadata": {},
   "outputs": [],
   "source": [
    "#X = np.expand_dims(X, axis=-1)\n",
    "#X.shape"
   ]
  },
  {
   "cell_type": "code",
   "execution_count": null,
   "metadata": {},
   "outputs": [],
   "source": [
    "model_2 = models.Sequential()"
   ]
  },
  {
   "cell_type": "code",
   "execution_count": null,
   "metadata": {},
   "outputs": [],
   "source": [
    "model_2.add(TimeDistributed(Conv1D(64,9, activation='relu',padding='same', input_shape=(1000,10,6))))"
   ]
  },
  {
   "cell_type": "code",
   "execution_count": null,
   "metadata": {},
   "outputs": [],
   "source": [
    "model_2.add(TimeDistributed(MaxPooling1D()))"
   ]
  },
  {
   "cell_type": "code",
   "execution_count": null,
   "metadata": {},
   "outputs": [],
   "source": [
    "model_2.add(TimeDistributed(Conv1D(128,9, activation='relu',padding='same')))"
   ]
  },
  {
   "cell_type": "code",
   "execution_count": null,
   "metadata": {},
   "outputs": [],
   "source": [
    "model_2.add(TimeDistributed(MaxPooling1D()))"
   ]
  },
  {
   "cell_type": "code",
   "execution_count": null,
   "metadata": {},
   "outputs": [],
   "source": [
    "model_2.add(TimeDistributed(Conv1D(128,9, activation='relu',padding='same')))"
   ]
  },
  {
   "cell_type": "code",
   "execution_count": null,
   "metadata": {},
   "outputs": [],
   "source": [
    "model_2.add(TimeDistributed(Flatten())) "
   ]
  },
  {
   "cell_type": "code",
   "execution_count": null,
   "metadata": {},
   "outputs": [],
   "source": [
    "model_2.add(Dropout(0.5)) "
   ]
  },
  {
   "cell_type": "code",
   "execution_count": null,
   "metadata": {},
   "outputs": [],
   "source": [
    "model_2.add(LSTM(units=128, return_sequences=True))"
   ]
  },
  {
   "cell_type": "code",
   "execution_count": null,
   "metadata": {},
   "outputs": [],
   "source": [
    "model_2.add(LSTM(units=50, return_sequences=False))"
   ]
  },
  {
   "cell_type": "code",
   "execution_count": null,
   "metadata": {},
   "outputs": [],
   "source": [
    "#model.add(Dense(128,activation='relu'))\n",
    "#model.add(Dense(64,activation='relu'))\n",
    "model_2.add(Dense(1,activation='relu'))"
   ]
  },
  {
   "cell_type": "code",
   "execution_count": null,
   "metadata": {},
   "outputs": [],
   "source": [
    "model_2.compile(optimizer=optimizers.Adam(lr=0.0001),\n",
    "               loss='mse',\n",
    "               metrics=['mae'])"
   ]
  },
  {
   "cell_type": "code",
   "execution_count": null,
   "metadata": {
    "scrolled": true
   },
   "outputs": [],
   "source": [
    "early_stopping = EarlyStopping(monitor='val_loss', patience=50, verbose=2)\n",
    "model_2.fit(X,y,epochs=1,batch_size=5,callbacks=[early_stopping])"
   ]
  },
  {
   "cell_type": "code",
   "execution_count": null,
   "metadata": {},
   "outputs": [],
   "source": [
    "res = model.predict(X)"
   ]
  },
  {
   "cell_type": "code",
   "execution_count": null,
   "metadata": {},
   "outputs": [],
   "source": [
    "plt.plot(Scaler.inverse_transform(res))\n",
    "plt.plot(Scaler.inverse_transform(y))"
   ]
  },
  {
   "cell_type": "code",
   "execution_count": null,
   "metadata": {},
   "outputs": [],
   "source": [
    "res = Scaler.inverse_transform(res)\n",
    "res = pd.DataFrame(res)\n",
    "res.to_csv('E:\\\\毕业设计\\\\毕业\\\\V0\\\\data\\\\容量预测结果_混合模型.csv',index=False,encoding=\"utf_8_sig\")"
   ]
  },
  {
   "cell_type": "code",
   "execution_count": null,
   "metadata": {},
   "outputs": [],
   "source": [
    "model_2.save('E:\\\\毕业设计\\\\毕业\\\\V0\\\\data\\model\\\\cnn+lstm.h5')"
   ]
  },
  {
   "cell_type": "markdown",
   "metadata": {},
   "source": [
    "# 贝叶斯网络推断"
   ]
  },
  {
   "cell_type": "code",
   "execution_count": null,
   "metadata": {},
   "outputs": [],
   "source": [
    "from pgmpy.models import BayesianModel\n",
    "from pgmpy.estimators import BayesianEstimator\n",
    "from pgmpy.factors.discrete import TabularCPD\n",
    "import pandas as pd\n",
    "from pgmpy.inference import VariableElimination\n",
    "from graphviz import Digraph"
   ]
  },
  {
   "cell_type": "code",
   "execution_count": null,
   "metadata": {},
   "outputs": [],
   "source": [
    "battery_model = BayesianModel([('Cell_3', 'Road_2'), \n",
    "                              ('Cell_4', 'Road_2'),\n",
    "                              ('Road_1', 'Battery_Pack'),\n",
    "                              ('Road_2', 'Battery_Pack')])"
   ]
  },
  {
   "cell_type": "code",
   "execution_count": null,
   "metadata": {},
   "outputs": [],
   "source": [
    "def showBN(model,save=False):\n",
    "    '''传入BayesianModel对象，调用graphviz绘制结构图，jupyter中可直接显示'''\n",
    "    node_attr = dict(\n",
    "     style='filled',\n",
    "     shape='box',\n",
    "     align='left',\n",
    "     fontsize='12',\n",
    "     ranksep='0.1',\n",
    "     height='0.2'\n",
    "    )\n",
    "    dot = Digraph(node_attr=node_attr, graph_attr=dict(size=\"12,12\"))\n",
    "    seen = set()\n",
    "    edges=model.edges()\n",
    "    for a,b in edges:\n",
    "        dot.edge(a,b)\n",
    "    if save:\n",
    "        dot.view(cleanup=True)\n",
    "    return dot\n",
    "showBN(battery_model) "
   ]
  },
  {
   "cell_type": "code",
   "execution_count": null,
   "metadata": {},
   "outputs": [],
   "source": [
    "#model = BayesianModel([('Cell_3', 'Road_2'), ('Cell_4', 'Road_2')])\n",
    "#model = BayesianModel([('A', 'C'), ('B', 'C')])"
   ]
  },
  {
   "cell_type": "code",
   "execution_count": null,
   "metadata": {},
   "outputs": [],
   "source": [
    "data = pd.read_csv('E:\\\\毕业设计\\\\毕业\\\\V0\\data\\\\电池组状态数据.csv')\n",
    "#data = pd.DataFrame(data={'A': [0, 0, 1], 'B': [0, 1, 0], 'C': [1, 1, 0]})"
   ]
  },
  {
   "cell_type": "code",
   "execution_count": null,
   "metadata": {},
   "outputs": [],
   "source": [
    "estimator = BayesianEstimator(model, data)"
   ]
  },
  {
   "cell_type": "code",
   "execution_count": null,
   "metadata": {},
   "outputs": [],
   "source": [
    "cpd_C = estimator.estimate_cpd('Road_2')#, prior_type=\"dirichlet\", pseudo_counts=[1,2])"
   ]
  },
  {
   "cell_type": "code",
   "execution_count": null,
   "metadata": {},
   "outputs": [],
   "source": [
    "print(cpd_C)"
   ]
  },
  {
   "cell_type": "code",
   "execution_count": null,
   "metadata": {},
   "outputs": [],
   "source": [
    "cpd_cell3 = TabularCPD(variable='Cell_3', variable_card=3,\n",
    "                      values=[[0.6], [0.2], [0.2]])\n",
    "cpd_cell4 = TabularCPD(variable='Cell_4', variable_card=3,\n",
    "                       values=[[0.6], [0.2], [0.2]])\n",
    "cpd_road1 = TabularCPD(variable='Road_1', variable_card=3,\n",
    "                       values=[[0.9],[0.0],[0.1]])\n",
    "cpd_road2 = TabularCPD(variable='Road_2', variable_card=3,\n",
    "                        values=[[0.98, 0.3, 0.2, 0.3, 0.0037, 0.0333, 0.1, 0.0208, 0.0088],\n",
    "                                [0.01, 0.6, 0.4, 0.6, 0.9370, 0.9333, 0.6, 0.3333, 0.1193],\n",
    "                                [0.01, 0.1, 0.4, 0.1, 0.0593, 0.0333, 0.3, 0.6458, 0.8719]],\n",
    "                        evidence=['Cell_3', 'Cell_4'],\n",
    "                        evidence_card=[3,3])\n",
    "cpd_pack = TabularCPD(variable='Battery_Pack', variable_card=3,\n",
    "                      values=[[0.9188, 0.6465, 0.3333, 0.3333, 0.0037, 0.0333, 0.3333, 0.0208, 0.0088],\n",
    "                              [0.0784, 0.3434, 0.3333, 0.3333, 0.9370, 0.9333, 0.3333, 0.3333, 0.0193],\n",
    "                              [0.0028, 0.0101, 0.3333, 0.3333, 0.0593, 0.0333, 0.3333, 0.6458, 0.9719]],\n",
    "                      evidence=['Road_1', 'Road_2'], evidence_card=[3,3])"
   ]
  },
  {
   "cell_type": "code",
   "execution_count": null,
   "metadata": {},
   "outputs": [],
   "source": [
    "battery_model.add_cpds(cpd_cell3, cpd_cell4, cpd_road1, cpd_road2, cpd_pack)"
   ]
  },
  {
   "cell_type": "code",
   "execution_count": null,
   "metadata": {},
   "outputs": [],
   "source": [
    "battery_model.check_model()"
   ]
  },
  {
   "cell_type": "code",
   "execution_count": null,
   "metadata": {},
   "outputs": [],
   "source": [
    "battery_model.get_independencies()"
   ]
  },
  {
   "cell_type": "code",
   "execution_count": null,
   "metadata": {},
   "outputs": [],
   "source": [
    "model_infer = VariableElimination(battery_model)\n",
    "q = model_infer.query(variables=['Road_2'], evidence={})"
   ]
  },
  {
   "cell_type": "code",
   "execution_count": null,
   "metadata": {},
   "outputs": [],
   "source": [
    "print(q)"
   ]
  },
  {
   "cell_type": "code",
   "execution_count": null,
   "metadata": {},
   "outputs": [],
   "source": [
    "data = pd.read_csv('E:\\\\毕业设计\\\\毕业\\\\V0\\data\\\\电池组状态数据.csv')"
   ]
  },
  {
   "cell_type": "code",
   "execution_count": null,
   "metadata": {},
   "outputs": [],
   "source": [
    "predict_data = data.drop(columns=['Battery_Pack'],axis=1)"
   ]
  },
  {
   "cell_type": "code",
   "execution_count": null,
   "metadata": {},
   "outputs": [],
   "source": [
    "predict_data"
   ]
  },
  {
   "cell_type": "code",
   "execution_count": null,
   "metadata": {},
   "outputs": [],
   "source": [
    "y_pred = battery_model.predict(predict_data)"
   ]
  },
  {
   "cell_type": "code",
   "execution_count": null,
   "metadata": {},
   "outputs": [],
   "source": [
    "y_pred"
   ]
  },
  {
   "cell_type": "code",
   "execution_count": null,
   "metadata": {},
   "outputs": [],
   "source": [
    "print((y_pred['Battery_Pack'] == data['Battery_Pack']).sum()/len(data))"
   ]
  },
  {
   "cell_type": "code",
   "execution_count": null,
   "metadata": {},
   "outputs": [],
   "source": []
  }
 ],
 "metadata": {
  "kernelspec": {
   "display_name": "Python 3",
   "language": "python",
   "name": "python3"
  },
  "language_info": {
   "codemirror_mode": {
    "name": "ipython",
    "version": 3
   },
   "file_extension": ".py",
   "mimetype": "text/x-python",
   "name": "python",
   "nbconvert_exporter": "python",
   "pygments_lexer": "ipython3",
   "version": "3.7.9"
  }
 },
 "nbformat": 4,
 "nbformat_minor": 4
}
