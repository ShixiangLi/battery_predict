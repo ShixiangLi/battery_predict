{
 "cells": [
  {
   "cell_type": "markdown",
   "metadata": {},
   "source": [
    "# Full CNN"
   ]
  },
  {
   "cell_type": "code",
   "execution_count": 8,
   "metadata": {},
   "outputs": [],
   "source": [
    "import numpy as np\n",
    "import pandas as pd\n",
    "import tensorflow.keras as keras\n",
    "from tensorflow.keras import layers\n",
    "from tensorflow.keras import models\n",
    "from tensorflow.keras.utils import plot_model\n",
    "from tensorflow.keras import optimizers\n",
    "import matplotlib.pyplot as plt\n",
    "from sklearn.preprocessing import MinMaxScaler\n",
    "from keras.callbacks import EarlyStopping"
   ]
  },
  {
   "cell_type": "markdown",
   "metadata": {},
   "source": [
    "# 读取数据"
   ]
  },
  {
   "cell_type": "code",
   "execution_count": 9,
   "metadata": {},
   "outputs": [],
   "source": [
    "X = np.load('E:\\\\毕业设计\\\\毕业\\\\V0\\\\data\\\\data_processed\\\\X.npy')\n",
    "y = np.load('E:\\\\毕业设计\\\\毕业\\\\V0\\\\data\\\\data_processed\\\\y.npy')"
   ]
  },
  {
   "cell_type": "code",
   "execution_count": 10,
   "metadata": {},
   "outputs": [],
   "source": [
    "Scaler = MinMaxScaler()\n",
    "X = X.reshape(-1,1)\n",
    "X = Scaler.fit_transform(X)\n",
    "X = X.reshape(304,1000,10,6)\n",
    "y = y.reshape(-1,1)\n",
    "y = Scaler.fit_transform(y)"
   ]
  },
  {
   "cell_type": "markdown",
   "metadata": {},
   "source": [
    "# 建立模型"
   ]
  },
  {
   "cell_type": "code",
   "execution_count": 11,
   "metadata": {},
   "outputs": [],
   "source": [
    "model_1 = models.Sequential()\n",
    "model_1.add(layers.Conv2D(64,(3,3), activation='relu',padding='same', input_shape=(1000,10,6)))\n",
    "model_1.add(layers.MaxPooling2D((2,2)))\n",
    "model_1.add(layers.Conv2D(64,(3,3),padding='same',activation='relu'))\n",
    "model_1.add(layers.MaxPooling2D((2,2)))\n",
    "model_1.add(layers.Conv2D(128,(3,3),padding='same',activation='relu'))\n",
    "model_1.add(layers.Flatten())\n",
    "model_1.add(layers.Dropout(0.5))\n",
    "#model_1.add(layers.Lambda(lambda x: keras.backend.expand_dims(x, axis=-1)))\n",
    "#model_1.add(layers.LSTM(units=128, return_sequences=True))\n",
    "model_1.add(layers.Dense(128,activation='relu'))\n",
    "model_1.add(layers.Dense(64,activation='relu'))\n",
    "model_1.add(layers.Dense(1,activation='relu'))"
   ]
  },
  {
   "cell_type": "code",
   "execution_count": 12,
   "metadata": {},
   "outputs": [
    {
     "name": "stdout",
     "output_type": "stream",
     "text": [
      "Model: \"sequential_1\"\n",
      "_________________________________________________________________\n",
      "Layer (type)                 Output Shape              Param #   \n",
      "=================================================================\n",
      "conv2d_3 (Conv2D)            (None, 1000, 10, 64)      3520      \n",
      "_________________________________________________________________\n",
      "max_pooling2d_2 (MaxPooling2 (None, 500, 5, 64)        0         \n",
      "_________________________________________________________________\n",
      "conv2d_4 (Conv2D)            (None, 500, 5, 64)        36928     \n",
      "_________________________________________________________________\n",
      "max_pooling2d_3 (MaxPooling2 (None, 250, 2, 64)        0         \n",
      "_________________________________________________________________\n",
      "conv2d_5 (Conv2D)            (None, 250, 2, 128)       73856     \n",
      "_________________________________________________________________\n",
      "flatten_1 (Flatten)          (None, 64000)             0         \n",
      "_________________________________________________________________\n",
      "dropout_1 (Dropout)          (None, 64000)             0         \n",
      "_________________________________________________________________\n",
      "dense_3 (Dense)              (None, 128)               8192128   \n",
      "_________________________________________________________________\n",
      "dense_4 (Dense)              (None, 64)                8256      \n",
      "_________________________________________________________________\n",
      "dense_5 (Dense)              (None, 1)                 65        \n",
      "=================================================================\n",
      "Total params: 8,314,753\n",
      "Trainable params: 8,314,753\n",
      "Non-trainable params: 0\n",
      "_________________________________________________________________\n"
     ]
    }
   ],
   "source": [
    "model_1.summary()"
   ]
  },
  {
   "cell_type": "code",
   "execution_count": 15,
   "metadata": {},
   "outputs": [],
   "source": [
    "model_1.compile(optimizer=optimizers.Adam(lr=0.0001),\n",
    "               loss='mse',\n",
    "               metrics=['mae']\n",
    "               )"
   ]
  },
  {
   "cell_type": "code",
   "execution_count": 16,
   "metadata": {},
   "outputs": [
    {
     "name": "stdout",
     "output_type": "stream",
     "text": [
      "Epoch 1/200\n",
      "61/61 [==============================] - ETA: 0s - loss: 0.1172 - mae: 0.2891WARNING:tensorflow:Early stopping conditioned on metric `val_loss` which is not available. Available metrics are: loss,mae\n",
      "61/61 [==============================] - 7s 111ms/step - loss: 0.1172 - mae: 0.2891\n",
      "Epoch 2/200\n",
      "61/61 [==============================] - ETA: 0s - loss: 0.0914 - mae: 0.2585WARNING:tensorflow:Early stopping conditioned on metric `val_loss` which is not available. Available metrics are: loss,mae\n",
      "61/61 [==============================] - 7s 109ms/step - loss: 0.0914 - mae: 0.2585\n",
      "Epoch 3/200\n",
      "61/61 [==============================] - ETA: 0s - loss: 0.0846 - mae: 0.2523WARNING:tensorflow:Early stopping conditioned on metric `val_loss` which is not available. Available metrics are: loss,mae\n",
      "61/61 [==============================] - 7s 120ms/step - loss: 0.0846 - mae: 0.2523\n",
      "Epoch 4/200\n",
      "61/61 [==============================] - ETA: 0s - loss: 0.0686 - mae: 0.2213WARNING:tensorflow:Early stopping conditioned on metric `val_loss` which is not available. Available metrics are: loss,mae\n",
      "61/61 [==============================] - 7s 118ms/step - loss: 0.0686 - mae: 0.2213\n",
      "Epoch 5/200\n",
      "61/61 [==============================] - ETA: 0s - loss: 0.0612 - mae: 0.2066WARNING:tensorflow:Early stopping conditioned on metric `val_loss` which is not available. Available metrics are: loss,mae\n",
      "61/61 [==============================] - 7s 116ms/step - loss: 0.0612 - mae: 0.2066\n",
      "Epoch 6/200\n",
      "61/61 [==============================] - ETA: 0s - loss: 0.0607 - mae: 0.2038WARNING:tensorflow:Early stopping conditioned on metric `val_loss` which is not available. Available metrics are: loss,mae\n",
      "61/61 [==============================] - 7s 121ms/step - loss: 0.0607 - mae: 0.2038\n",
      "Epoch 7/200\n",
      "61/61 [==============================] - ETA: 0s - loss: 0.0612 - mae: 0.2052WARNING:tensorflow:Early stopping conditioned on metric `val_loss` which is not available. Available metrics are: loss,mae\n",
      "61/61 [==============================] - 7s 118ms/step - loss: 0.0612 - mae: 0.2052\n",
      "Epoch 8/200\n",
      "61/61 [==============================] - ETA: 0s - loss: 0.0642 - mae: 0.2096WARNING:tensorflow:Early stopping conditioned on metric `val_loss` which is not available. Available metrics are: loss,mae\n",
      "61/61 [==============================] - 7s 111ms/step - loss: 0.0642 - mae: 0.2096\n",
      "Epoch 9/200\n",
      "61/61 [==============================] - ETA: 0s - loss: 0.0693 - mae: 0.2180WARNING:tensorflow:Early stopping conditioned on metric `val_loss` which is not available. Available metrics are: loss,mae\n",
      "61/61 [==============================] - 7s 110ms/step - loss: 0.0693 - mae: 0.2180\n",
      "Epoch 10/200\n",
      "61/61 [==============================] - ETA: 0s - loss: 0.0624 - mae: 0.2043WARNING:tensorflow:Early stopping conditioned on metric `val_loss` which is not available. Available metrics are: loss,mae\n",
      "61/61 [==============================] - 7s 111ms/step - loss: 0.0624 - mae: 0.2043\n",
      "Epoch 11/200\n",
      "61/61 [==============================] - ETA: 0s - loss: 0.0573 - mae: 0.1998WARNING:tensorflow:Early stopping conditioned on metric `val_loss` which is not available. Available metrics are: loss,mae\n",
      "61/61 [==============================] - 7s 116ms/step - loss: 0.0573 - mae: 0.1998\n",
      "Epoch 12/200\n",
      "61/61 [==============================] - ETA: 0s - loss: 0.0543 - mae: 0.1918WARNING:tensorflow:Early stopping conditioned on metric `val_loss` which is not available. Available metrics are: loss,mae\n",
      "61/61 [==============================] - 7s 119ms/step - loss: 0.0543 - mae: 0.1918\n",
      "Epoch 13/200\n",
      "61/61 [==============================] - ETA: 0s - loss: 0.0630 - mae: 0.2058WARNING:tensorflow:Early stopping conditioned on metric `val_loss` which is not available. Available metrics are: loss,mae\n",
      "61/61 [==============================] - 7s 115ms/step - loss: 0.0630 - mae: 0.2058\n",
      "Epoch 14/200\n",
      "61/61 [==============================] - ETA: 0s - loss: 0.0509 - mae: 0.1888WARNING:tensorflow:Early stopping conditioned on metric `val_loss` which is not available. Available metrics are: loss,mae\n",
      "61/61 [==============================] - 7s 110ms/step - loss: 0.0509 - mae: 0.1888\n",
      "Epoch 15/200\n",
      "61/61 [==============================] - ETA: 0s - loss: 0.0541 - mae: 0.1918WARNING:tensorflow:Early stopping conditioned on metric `val_loss` which is not available. Available metrics are: loss,mae\n",
      "61/61 [==============================] - 7s 108ms/step - loss: 0.0541 - mae: 0.1918\n",
      "Epoch 16/200\n",
      "61/61 [==============================] - ETA: 0s - loss: 0.0518 - mae: 0.1884WARNING:tensorflow:Early stopping conditioned on metric `val_loss` which is not available. Available metrics are: loss,mae\n",
      "61/61 [==============================] - 7s 112ms/step - loss: 0.0518 - mae: 0.1884\n",
      "Epoch 17/200\n",
      "61/61 [==============================] - ETA: 0s - loss: 0.0557 - mae: 0.1906WARNING:tensorflow:Early stopping conditioned on metric `val_loss` which is not available. Available metrics are: loss,mae\n",
      "61/61 [==============================] - 7s 113ms/step - loss: 0.0557 - mae: 0.1906\n",
      "Epoch 18/200\n",
      "61/61 [==============================] - ETA: 0s - loss: 0.0518 - mae: 0.1859WARNING:tensorflow:Early stopping conditioned on metric `val_loss` which is not available. Available metrics are: loss,mae\n",
      "61/61 [==============================] - 7s 116ms/step - loss: 0.0518 - mae: 0.1859\n",
      "Epoch 19/200\n",
      "61/61 [==============================] - ETA: 0s - loss: 0.0506 - mae: 0.1868WARNING:tensorflow:Early stopping conditioned on metric `val_loss` which is not available. Available metrics are: loss,mae\n",
      "61/61 [==============================] - 7s 112ms/step - loss: 0.0506 - mae: 0.1868\n",
      "Epoch 20/200\n",
      "61/61 [==============================] - ETA: 0s - loss: 0.0444 - mae: 0.1732WARNING:tensorflow:Early stopping conditioned on metric `val_loss` which is not available. Available metrics are: loss,mae\n",
      "61/61 [==============================] - 7s 116ms/step - loss: 0.0444 - mae: 0.1732\n",
      "Epoch 21/200\n",
      "61/61 [==============================] - ETA: 0s - loss: 0.0406 - mae: 0.1633WARNING:tensorflow:Early stopping conditioned on metric `val_loss` which is not available. Available metrics are: loss,mae\n",
      "61/61 [==============================] - 7s 115ms/step - loss: 0.0406 - mae: 0.1633\n",
      "Epoch 22/200\n",
      "61/61 [==============================] - ETA: 0s - loss: 0.0397 - mae: 0.1611WARNING:tensorflow:Early stopping conditioned on metric `val_loss` which is not available. Available metrics are: loss,mae\n",
      "61/61 [==============================] - 7s 118ms/step - loss: 0.0397 - mae: 0.1611\n",
      "Epoch 23/200\n",
      "61/61 [==============================] - ETA: 0s - loss: 0.0375 - mae: 0.1553WARNING:tensorflow:Early stopping conditioned on metric `val_loss` which is not available. Available metrics are: loss,mae\n",
      "61/61 [==============================] - 7s 113ms/step - loss: 0.0375 - mae: 0.1553\n",
      "Epoch 24/200\n",
      "61/61 [==============================] - ETA: 0s - loss: 0.0370 - mae: 0.1528WARNING:tensorflow:Early stopping conditioned on metric `val_loss` which is not available. Available metrics are: loss,mae\n",
      "61/61 [==============================] - 8s 125ms/step - loss: 0.0370 - mae: 0.1528\n",
      "Epoch 25/200\n",
      "61/61 [==============================] - ETA: 0s - loss: 0.0353 - mae: 0.1474WARNING:tensorflow:Early stopping conditioned on metric `val_loss` which is not available. Available metrics are: loss,mae\n",
      "61/61 [==============================] - 7s 119ms/step - loss: 0.0353 - mae: 0.1474\n",
      "Epoch 26/200\n",
      "61/61 [==============================] - ETA: 0s - loss: 0.0411 - mae: 0.1651WARNING:tensorflow:Early stopping conditioned on metric `val_loss` which is not available. Available metrics are: loss,mae\n",
      "61/61 [==============================] - 7s 117ms/step - loss: 0.0411 - mae: 0.1651\n",
      "Epoch 27/200\n",
      "61/61 [==============================] - ETA: 0s - loss: 0.0360 - mae: 0.1510WARNING:tensorflow:Early stopping conditioned on metric `val_loss` which is not available. Available metrics are: loss,mae\n",
      "61/61 [==============================] - 7s 108ms/step - loss: 0.0360 - mae: 0.1510\n",
      "Epoch 28/200\n",
      "61/61 [==============================] - ETA: 0s - loss: 0.0343 - mae: 0.1422WARNING:tensorflow:Early stopping conditioned on metric `val_loss` which is not available. Available metrics are: loss,mae\n"
     ]
    },
    {
     "name": "stdout",
     "output_type": "stream",
     "text": [
      "61/61 [==============================] - 6s 105ms/step - loss: 0.0343 - mae: 0.1422\n",
      "Epoch 29/200\n",
      "61/61 [==============================] - ETA: 0s - loss: 0.0319 - mae: 0.1432WARNING:tensorflow:Early stopping conditioned on metric `val_loss` which is not available. Available metrics are: loss,mae\n",
      "61/61 [==============================] - 7s 110ms/step - loss: 0.0319 - mae: 0.1432\n",
      "Epoch 30/200\n",
      "61/61 [==============================] - ETA: 0s - loss: 0.0346 - mae: 0.1430WARNING:tensorflow:Early stopping conditioned on metric `val_loss` which is not available. Available metrics are: loss,mae\n",
      "61/61 [==============================] - 7s 111ms/step - loss: 0.0346 - mae: 0.1430\n",
      "Epoch 31/200\n",
      "61/61 [==============================] - ETA: 0s - loss: 0.0275 - mae: 0.1275WARNING:tensorflow:Early stopping conditioned on metric `val_loss` which is not available. Available metrics are: loss,mae\n",
      "61/61 [==============================] - 7s 108ms/step - loss: 0.0275 - mae: 0.1275\n",
      "Epoch 32/200\n",
      "61/61 [==============================] - ETA: 0s - loss: 0.0262 - mae: 0.1235WARNING:tensorflow:Early stopping conditioned on metric `val_loss` which is not available. Available metrics are: loss,mae\n",
      "61/61 [==============================] - 6s 105ms/step - loss: 0.0262 - mae: 0.1235\n",
      "Epoch 33/200\n",
      "61/61 [==============================] - ETA: 0s - loss: 0.0269 - mae: 0.1266WARNING:tensorflow:Early stopping conditioned on metric `val_loss` which is not available. Available metrics are: loss,mae\n",
      "61/61 [==============================] - 7s 115ms/step - loss: 0.0269 - mae: 0.1266\n",
      "Epoch 34/200\n",
      "61/61 [==============================] - ETA: 0s - loss: 0.0249 - mae: 0.1204WARNING:tensorflow:Early stopping conditioned on metric `val_loss` which is not available. Available metrics are: loss,mae\n",
      "61/61 [==============================] - 7s 115ms/step - loss: 0.0249 - mae: 0.1204\n",
      "Epoch 35/200\n",
      "61/61 [==============================] - ETA: 0s - loss: 0.0277 - mae: 0.1266WARNING:tensorflow:Early stopping conditioned on metric `val_loss` which is not available. Available metrics are: loss,mae\n",
      "61/61 [==============================] - 7s 119ms/step - loss: 0.0277 - mae: 0.1266\n",
      "Epoch 36/200\n",
      "61/61 [==============================] - ETA: 0s - loss: 0.0218 - mae: 0.1142WARNING:tensorflow:Early stopping conditioned on metric `val_loss` which is not available. Available metrics are: loss,mae\n",
      "61/61 [==============================] - 7s 122ms/step - loss: 0.0218 - mae: 0.1142\n",
      "Epoch 37/200\n",
      "61/61 [==============================] - ETA: 0s - loss: 0.0208 - mae: 0.1093WARNING:tensorflow:Early stopping conditioned on metric `val_loss` which is not available. Available metrics are: loss,mae\n",
      "61/61 [==============================] - 8s 132ms/step - loss: 0.0208 - mae: 0.1093\n",
      "Epoch 38/200\n",
      "61/61 [==============================] - ETA: 0s - loss: 0.0207 - mae: 0.1076WARNING:tensorflow:Early stopping conditioned on metric `val_loss` which is not available. Available metrics are: loss,mae\n",
      "61/61 [==============================] - 8s 134ms/step - loss: 0.0207 - mae: 0.1076\n",
      "Epoch 39/200\n",
      "61/61 [==============================] - ETA: 0s - loss: 0.0169 - mae: 0.0978WARNING:tensorflow:Early stopping conditioned on metric `val_loss` which is not available. Available metrics are: loss,mae\n",
      "61/61 [==============================] - 8s 126ms/step - loss: 0.0169 - mae: 0.0978\n",
      "Epoch 40/200\n",
      "61/61 [==============================] - ETA: 0s - loss: 0.0177 - mae: 0.1030WARNING:tensorflow:Early stopping conditioned on metric `val_loss` which is not available. Available metrics are: loss,mae\n",
      "61/61 [==============================] - 8s 128ms/step - loss: 0.0177 - mae: 0.1030\n",
      "Epoch 41/200\n",
      "61/61 [==============================] - ETA: 0s - loss: 0.0149 - mae: 0.0901WARNING:tensorflow:Early stopping conditioned on metric `val_loss` which is not available. Available metrics are: loss,mae\n",
      "61/61 [==============================] - 8s 125ms/step - loss: 0.0149 - mae: 0.0901\n",
      "Epoch 42/200\n",
      "61/61 [==============================] - ETA: 0s - loss: 0.0139 - mae: 0.0866WARNING:tensorflow:Early stopping conditioned on metric `val_loss` which is not available. Available metrics are: loss,mae\n",
      "61/61 [==============================] - 7s 123ms/step - loss: 0.0139 - mae: 0.0866\n",
      "Epoch 43/200\n",
      "61/61 [==============================] - ETA: 0s - loss: 0.0121 - mae: 0.0822WARNING:tensorflow:Early stopping conditioned on metric `val_loss` which is not available. Available metrics are: loss,mae\n",
      "61/61 [==============================] - 8s 124ms/step - loss: 0.0121 - mae: 0.0822\n",
      "Epoch 44/200\n",
      "61/61 [==============================] - ETA: 0s - loss: 0.0129 - mae: 0.0844WARNING:tensorflow:Early stopping conditioned on metric `val_loss` which is not available. Available metrics are: loss,mae\n",
      "61/61 [==============================] - 8s 131ms/step - loss: 0.0129 - mae: 0.0844\n",
      "Epoch 45/200\n",
      "61/61 [==============================] - ETA: 0s - loss: 0.0133 - mae: 0.0899WARNING:tensorflow:Early stopping conditioned on metric `val_loss` which is not available. Available metrics are: loss,mae\n",
      "61/61 [==============================] - 8s 125ms/step - loss: 0.0133 - mae: 0.0899\n",
      "Epoch 46/200\n",
      "61/61 [==============================] - ETA: 0s - loss: 0.0124 - mae: 0.0852WARNING:tensorflow:Early stopping conditioned on metric `val_loss` which is not available. Available metrics are: loss,mae\n",
      "61/61 [==============================] - 8s 126ms/step - loss: 0.0124 - mae: 0.0852\n",
      "Epoch 47/200\n",
      "61/61 [==============================] - ETA: 0s - loss: 0.0121 - mae: 0.0855WARNING:tensorflow:Early stopping conditioned on metric `val_loss` which is not available. Available metrics are: loss,mae\n",
      "61/61 [==============================] - 8s 124ms/step - loss: 0.0121 - mae: 0.0855\n",
      "Epoch 48/200\n",
      "61/61 [==============================] - ETA: 0s - loss: 0.0125 - mae: 0.0858WARNING:tensorflow:Early stopping conditioned on metric `val_loss` which is not available. Available metrics are: loss,mae\n",
      "61/61 [==============================] - 8s 125ms/step - loss: 0.0125 - mae: 0.0858\n",
      "Epoch 49/200\n",
      "61/61 [==============================] - ETA: 0s - loss: 0.0115 - mae: 0.0808WARNING:tensorflow:Early stopping conditioned on metric `val_loss` which is not available. Available metrics are: loss,mae\n",
      "61/61 [==============================] - 8s 124ms/step - loss: 0.0115 - mae: 0.0808\n",
      "Epoch 50/200\n",
      "61/61 [==============================] - ETA: 0s - loss: 0.0115 - mae: 0.0810WARNING:tensorflow:Early stopping conditioned on metric `val_loss` which is not available. Available metrics are: loss,mae\n",
      "61/61 [==============================] - 7s 122ms/step - loss: 0.0115 - mae: 0.0810\n",
      "Epoch 51/200\n",
      "61/61 [==============================] - ETA: 0s - loss: 0.0094 - mae: 0.0748WARNING:tensorflow:Early stopping conditioned on metric `val_loss` which is not available. Available metrics are: loss,mae\n",
      "61/61 [==============================] - 8s 125ms/step - loss: 0.0094 - mae: 0.0748\n",
      "Epoch 52/200\n",
      "61/61 [==============================] - ETA: 0s - loss: 0.0080 - mae: 0.0698WARNING:tensorflow:Early stopping conditioned on metric `val_loss` which is not available. Available metrics are: loss,mae\n",
      "61/61 [==============================] - 8s 124ms/step - loss: 0.0080 - mae: 0.0698\n",
      "Epoch 53/200\n",
      "61/61 [==============================] - ETA: 0s - loss: 0.0111 - mae: 0.0802WARNING:tensorflow:Early stopping conditioned on metric `val_loss` which is not available. Available metrics are: loss,mae\n",
      "61/61 [==============================] - 7s 122ms/step - loss: 0.0111 - mae: 0.0802\n",
      "Epoch 54/200\n",
      "61/61 [==============================] - ETA: 0s - loss: 0.0099 - mae: 0.0754WARNING:tensorflow:Early stopping conditioned on metric `val_loss` which is not available. Available metrics are: loss,mae\n",
      "61/61 [==============================] - 7s 110ms/step - loss: 0.0099 - mae: 0.0754\n",
      "Epoch 55/200\n",
      "61/61 [==============================] - ETA: 0s - loss: 0.0079 - mae: 0.0669WARNING:tensorflow:Early stopping conditioned on metric `val_loss` which is not available. Available metrics are: loss,mae\n",
      "61/61 [==============================] - 7s 112ms/step - loss: 0.0079 - mae: 0.0669\n",
      "Epoch 56/200\n"
     ]
    },
    {
     "name": "stdout",
     "output_type": "stream",
     "text": [
      "61/61 [==============================] - ETA: 0s - loss: 0.0070 - mae: 0.0630WARNING:tensorflow:Early stopping conditioned on metric `val_loss` which is not available. Available metrics are: loss,mae\n",
      "61/61 [==============================] - 7s 110ms/step - loss: 0.0070 - mae: 0.0630\n",
      "Epoch 57/200\n",
      "61/61 [==============================] - ETA: 0s - loss: 0.0095 - mae: 0.0720WARNING:tensorflow:Early stopping conditioned on metric `val_loss` which is not available. Available metrics are: loss,mae\n",
      "61/61 [==============================] - 7s 109ms/step - loss: 0.0095 - mae: 0.0720\n",
      "Epoch 58/200\n",
      "61/61 [==============================] - ETA: 0s - loss: 0.0080 - mae: 0.0686WARNING:tensorflow:Early stopping conditioned on metric `val_loss` which is not available. Available metrics are: loss,mae\n",
      "61/61 [==============================] - 6s 106ms/step - loss: 0.0080 - mae: 0.0686\n",
      "Epoch 59/200\n",
      "61/61 [==============================] - ETA: 0s - loss: 0.0072 - mae: 0.0646WARNING:tensorflow:Early stopping conditioned on metric `val_loss` which is not available. Available metrics are: loss,mae\n",
      "61/61 [==============================] - 7s 122ms/step - loss: 0.0072 - mae: 0.0646\n",
      "Epoch 60/200\n",
      "61/61 [==============================] - ETA: 0s - loss: 0.0078 - mae: 0.0664WARNING:tensorflow:Early stopping conditioned on metric `val_loss` which is not available. Available metrics are: loss,mae\n",
      "61/61 [==============================] - 8s 128ms/step - loss: 0.0078 - mae: 0.0664\n",
      "Epoch 61/200\n",
      "61/61 [==============================] - ETA: 0s - loss: 0.0059 - mae: 0.0572WARNING:tensorflow:Early stopping conditioned on metric `val_loss` which is not available. Available metrics are: loss,mae\n",
      "61/61 [==============================] - 7s 118ms/step - loss: 0.0059 - mae: 0.0572\n",
      "Epoch 62/200\n",
      "61/61 [==============================] - ETA: 0s - loss: 0.0069 - mae: 0.0620WARNING:tensorflow:Early stopping conditioned on metric `val_loss` which is not available. Available metrics are: loss,mae\n",
      "61/61 [==============================] - 7s 118ms/step - loss: 0.0069 - mae: 0.0620\n",
      "Epoch 63/200\n",
      "61/61 [==============================] - ETA: 0s - loss: 0.0084 - mae: 0.0666WARNING:tensorflow:Early stopping conditioned on metric `val_loss` which is not available. Available metrics are: loss,mae\n",
      "61/61 [==============================] - 7s 118ms/step - loss: 0.0084 - mae: 0.0666\n",
      "Epoch 64/200\n",
      "61/61 [==============================] - ETA: 0s - loss: 0.0065 - mae: 0.0624WARNING:tensorflow:Early stopping conditioned on metric `val_loss` which is not available. Available metrics are: loss,mae\n",
      "61/61 [==============================] - 7s 122ms/step - loss: 0.0065 - mae: 0.0624\n",
      "Epoch 65/200\n",
      "61/61 [==============================] - ETA: 0s - loss: 0.0070 - mae: 0.0666WARNING:tensorflow:Early stopping conditioned on metric `val_loss` which is not available. Available metrics are: loss,mae\n",
      "61/61 [==============================] - 8s 126ms/step - loss: 0.0070 - mae: 0.0666\n",
      "Epoch 66/200\n",
      "61/61 [==============================] - ETA: 0s - loss: 0.0061 - mae: 0.0558WARNING:tensorflow:Early stopping conditioned on metric `val_loss` which is not available. Available metrics are: loss,mae\n",
      "61/61 [==============================] - 8s 123ms/step - loss: 0.0061 - mae: 0.0558\n",
      "Epoch 67/200\n",
      "61/61 [==============================] - ETA: 0s - loss: 0.0052 - mae: 0.0545WARNING:tensorflow:Early stopping conditioned on metric `val_loss` which is not available. Available metrics are: loss,mae\n",
      "61/61 [==============================] - 7s 121ms/step - loss: 0.0052 - mae: 0.0545\n",
      "Epoch 68/200\n",
      "61/61 [==============================] - ETA: 0s - loss: 0.0045 - mae: 0.0518WARNING:tensorflow:Early stopping conditioned on metric `val_loss` which is not available. Available metrics are: loss,mae\n",
      "61/61 [==============================] - 7s 118ms/step - loss: 0.0045 - mae: 0.0518\n",
      "Epoch 69/200\n",
      "61/61 [==============================] - ETA: 0s - loss: 0.0065 - mae: 0.0623WARNING:tensorflow:Early stopping conditioned on metric `val_loss` which is not available. Available metrics are: loss,mae\n",
      "61/61 [==============================] - 7s 116ms/step - loss: 0.0065 - mae: 0.0623\n",
      "Epoch 70/200\n",
      "61/61 [==============================] - ETA: 0s - loss: 0.0058 - mae: 0.0570WARNING:tensorflow:Early stopping conditioned on metric `val_loss` which is not available. Available metrics are: loss,mae\n",
      "61/61 [==============================] - 7s 117ms/step - loss: 0.0058 - mae: 0.0570\n",
      "Epoch 71/200\n",
      "61/61 [==============================] - ETA: 0s - loss: 0.0042 - mae: 0.0491WARNING:tensorflow:Early stopping conditioned on metric `val_loss` which is not available. Available metrics are: loss,mae\n",
      "61/61 [==============================] - 7s 116ms/step - loss: 0.0042 - mae: 0.0491\n",
      "Epoch 72/200\n",
      "61/61 [==============================] - ETA: 0s - loss: 0.0040 - mae: 0.0477WARNING:tensorflow:Early stopping conditioned on metric `val_loss` which is not available. Available metrics are: loss,mae\n",
      "61/61 [==============================] - 7s 118ms/step - loss: 0.0040 - mae: 0.0477\n",
      "Epoch 73/200\n",
      "61/61 [==============================] - ETA: 0s - loss: 0.0040 - mae: 0.0491WARNING:tensorflow:Early stopping conditioned on metric `val_loss` which is not available. Available metrics are: loss,mae\n",
      "61/61 [==============================] - 7s 116ms/step - loss: 0.0040 - mae: 0.0491\n",
      "Epoch 74/200\n",
      "61/61 [==============================] - ETA: 0s - loss: 0.0038 - mae: 0.0444WARNING:tensorflow:Early stopping conditioned on metric `val_loss` which is not available. Available metrics are: loss,mae\n",
      "61/61 [==============================] - 7s 115ms/step - loss: 0.0038 - mae: 0.0444\n",
      "Epoch 75/200\n",
      "61/61 [==============================] - ETA: 0s - loss: 0.0047 - mae: 0.0505WARNING:tensorflow:Early stopping conditioned on metric `val_loss` which is not available. Available metrics are: loss,mae\n",
      "61/61 [==============================] - 7s 117ms/step - loss: 0.0047 - mae: 0.0505\n",
      "Epoch 76/200\n",
      "61/61 [==============================] - ETA: 0s - loss: 0.0044 - mae: 0.0494WARNING:tensorflow:Early stopping conditioned on metric `val_loss` which is not available. Available metrics are: loss,mae\n",
      "61/61 [==============================] - 7s 117ms/step - loss: 0.0044 - mae: 0.0494\n",
      "Epoch 77/200\n",
      "61/61 [==============================] - ETA: 0s - loss: 0.0036 - mae: 0.0456WARNING:tensorflow:Early stopping conditioned on metric `val_loss` which is not available. Available metrics are: loss,mae\n",
      "61/61 [==============================] - 7s 115ms/step - loss: 0.0036 - mae: 0.0456\n",
      "Epoch 78/200\n",
      "61/61 [==============================] - ETA: 0s - loss: 0.0038 - mae: 0.0460WARNING:tensorflow:Early stopping conditioned on metric `val_loss` which is not available. Available metrics are: loss,mae\n",
      "61/61 [==============================] - 7s 116ms/step - loss: 0.0038 - mae: 0.0460\n",
      "Epoch 79/200\n",
      "61/61 [==============================] - ETA: 0s - loss: 0.0028 - mae: 0.0409WARNING:tensorflow:Early stopping conditioned on metric `val_loss` which is not available. Available metrics are: loss,mae\n",
      "61/61 [==============================] - 7s 116ms/step - loss: 0.0028 - mae: 0.0409\n",
      "Epoch 80/200\n",
      "61/61 [==============================] - ETA: 0s - loss: 0.0039 - mae: 0.0488WARNING:tensorflow:Early stopping conditioned on metric `val_loss` which is not available. Available metrics are: loss,mae\n",
      "61/61 [==============================] - 7s 116ms/step - loss: 0.0039 - mae: 0.0488\n",
      "Epoch 81/200\n",
      "61/61 [==============================] - ETA: 0s - loss: 0.0030 - mae: 0.0419WARNING:tensorflow:Early stopping conditioned on metric `val_loss` which is not available. Available metrics are: loss,mae\n",
      "61/61 [==============================] - 7s 117ms/step - loss: 0.0030 - mae: 0.0419\n",
      "Epoch 82/200\n",
      "61/61 [==============================] - ETA: 0s - loss: 0.0029 - mae: 0.0423WARNING:tensorflow:Early stopping conditioned on metric `val_loss` which is not available. Available metrics are: loss,mae\n",
      "61/61 [==============================] - 7s 116ms/step - loss: 0.0029 - mae: 0.0423\n",
      "Epoch 83/200\n",
      "61/61 [==============================] - ETA: 0s - loss: 0.0030 - mae: 0.0422WARNING:tensorflow:Early stopping conditioned on metric `val_loss` which is not available. Available metrics are: loss,mae\n"
     ]
    },
    {
     "name": "stdout",
     "output_type": "stream",
     "text": [
      "61/61 [==============================] - 7s 116ms/step - loss: 0.0030 - mae: 0.0422\n",
      "Epoch 84/200\n",
      "61/61 [==============================] - ETA: 0s - loss: 0.0031 - mae: 0.0409WARNING:tensorflow:Early stopping conditioned on metric `val_loss` which is not available. Available metrics are: loss,mae\n",
      "61/61 [==============================] - 7s 116ms/step - loss: 0.0031 - mae: 0.0409\n",
      "Epoch 85/200\n",
      "61/61 [==============================] - ETA: 0s - loss: 0.0028 - mae: 0.0399WARNING:tensorflow:Early stopping conditioned on metric `val_loss` which is not available. Available metrics are: loss,mae\n",
      "61/61 [==============================] - 7s 116ms/step - loss: 0.0028 - mae: 0.0399\n",
      "Epoch 86/200\n",
      "61/61 [==============================] - ETA: 0s - loss: 0.0035 - mae: 0.0427WARNING:tensorflow:Early stopping conditioned on metric `val_loss` which is not available. Available metrics are: loss,mae\n",
      "61/61 [==============================] - 7s 115ms/step - loss: 0.0035 - mae: 0.0427\n",
      "Epoch 87/200\n",
      "61/61 [==============================] - ETA: 0s - loss: 0.0032 - mae: 0.0422WARNING:tensorflow:Early stopping conditioned on metric `val_loss` which is not available. Available metrics are: loss,mae\n",
      "61/61 [==============================] - 7s 117ms/step - loss: 0.0032 - mae: 0.0422\n",
      "Epoch 88/200\n",
      "61/61 [==============================] - ETA: 0s - loss: 0.0032 - mae: 0.0425WARNING:tensorflow:Early stopping conditioned on metric `val_loss` which is not available. Available metrics are: loss,mae\n",
      "61/61 [==============================] - 7s 116ms/step - loss: 0.0032 - mae: 0.0425\n",
      "Epoch 89/200\n",
      "61/61 [==============================] - ETA: 0s - loss: 0.0033 - mae: 0.0446WARNING:tensorflow:Early stopping conditioned on metric `val_loss` which is not available. Available metrics are: loss,mae\n",
      "61/61 [==============================] - 7s 115ms/step - loss: 0.0033 - mae: 0.0446\n",
      "Epoch 90/200\n",
      "61/61 [==============================] - ETA: 0s - loss: 0.0028 - mae: 0.0384WARNING:tensorflow:Early stopping conditioned on metric `val_loss` which is not available. Available metrics are: loss,mae\n",
      "61/61 [==============================] - 7s 117ms/step - loss: 0.0028 - mae: 0.0384\n",
      "Epoch 91/200\n",
      "61/61 [==============================] - ETA: 0s - loss: 0.0028 - mae: 0.0408WARNING:tensorflow:Early stopping conditioned on metric `val_loss` which is not available. Available metrics are: loss,mae\n",
      "61/61 [==============================] - 7s 117ms/step - loss: 0.0028 - mae: 0.0408\n",
      "Epoch 92/200\n",
      "61/61 [==============================] - ETA: 0s - loss: 0.0025 - mae: 0.0373WARNING:tensorflow:Early stopping conditioned on metric `val_loss` which is not available. Available metrics are: loss,mae\n",
      "61/61 [==============================] - 7s 116ms/step - loss: 0.0025 - mae: 0.0373\n",
      "Epoch 93/200\n",
      "61/61 [==============================] - ETA: 0s - loss: 0.0024 - mae: 0.0362WARNING:tensorflow:Early stopping conditioned on metric `val_loss` which is not available. Available metrics are: loss,mae\n",
      "61/61 [==============================] - 7s 115ms/step - loss: 0.0024 - mae: 0.0362\n",
      "Epoch 94/200\n",
      "61/61 [==============================] - ETA: 0s - loss: 0.0019 - mae: 0.0321WARNING:tensorflow:Early stopping conditioned on metric `val_loss` which is not available. Available metrics are: loss,mae\n",
      "61/61 [==============================] - 7s 115ms/step - loss: 0.0019 - mae: 0.0321\n",
      "Epoch 95/200\n",
      "61/61 [==============================] - ETA: 0s - loss: 0.0020 - mae: 0.0348WARNING:tensorflow:Early stopping conditioned on metric `val_loss` which is not available. Available metrics are: loss,mae\n",
      "61/61 [==============================] - 7s 115ms/step - loss: 0.0020 - mae: 0.0348\n",
      "Epoch 96/200\n",
      "61/61 [==============================] - ETA: 0s - loss: 0.0053 - mae: 0.0497WARNING:tensorflow:Early stopping conditioned on metric `val_loss` which is not available. Available metrics are: loss,mae\n",
      "61/61 [==============================] - 7s 116ms/step - loss: 0.0053 - mae: 0.0497\n",
      "Epoch 97/200\n",
      "61/61 [==============================] - ETA: 0s - loss: 0.0039 - mae: 0.0483WARNING:tensorflow:Early stopping conditioned on metric `val_loss` which is not available. Available metrics are: loss,mae\n",
      "61/61 [==============================] - 7s 115ms/step - loss: 0.0039 - mae: 0.0483\n",
      "Epoch 98/200\n",
      "61/61 [==============================] - ETA: 0s - loss: 0.0030 - mae: 0.0434WARNING:tensorflow:Early stopping conditioned on metric `val_loss` which is not available. Available metrics are: loss,mae\n",
      "61/61 [==============================] - 7s 116ms/step - loss: 0.0030 - mae: 0.0434\n",
      "Epoch 99/200\n",
      "61/61 [==============================] - ETA: 0s - loss: 0.0024 - mae: 0.0357WARNING:tensorflow:Early stopping conditioned on metric `val_loss` which is not available. Available metrics are: loss,mae\n",
      "61/61 [==============================] - 7s 115ms/step - loss: 0.0024 - mae: 0.0357\n",
      "Epoch 100/200\n",
      "61/61 [==============================] - ETA: 0s - loss: 0.0019 - mae: 0.0331WARNING:tensorflow:Early stopping conditioned on metric `val_loss` which is not available. Available metrics are: loss,mae\n",
      "61/61 [==============================] - 7s 116ms/step - loss: 0.0019 - mae: 0.0331\n",
      "Epoch 101/200\n",
      "61/61 [==============================] - ETA: 0s - loss: 0.0028 - mae: 0.0402WARNING:tensorflow:Early stopping conditioned on metric `val_loss` which is not available. Available metrics are: loss,mae\n",
      "61/61 [==============================] - 7s 120ms/step - loss: 0.0028 - mae: 0.0402\n",
      "Epoch 102/200\n",
      "61/61 [==============================] - ETA: 0s - loss: 0.0020 - mae: 0.0335WARNING:tensorflow:Early stopping conditioned on metric `val_loss` which is not available. Available metrics are: loss,mae\n",
      "61/61 [==============================] - 7s 118ms/step - loss: 0.0020 - mae: 0.0335\n",
      "Epoch 103/200\n",
      "61/61 [==============================] - ETA: 0s - loss: 0.0020 - mae: 0.0337WARNING:tensorflow:Early stopping conditioned on metric `val_loss` which is not available. Available metrics are: loss,mae\n",
      "61/61 [==============================] - 7s 116ms/step - loss: 0.0020 - mae: 0.0337\n",
      "Epoch 104/200\n",
      "61/61 [==============================] - ETA: 0s - loss: 0.0021 - mae: 0.0335WARNING:tensorflow:Early stopping conditioned on metric `val_loss` which is not available. Available metrics are: loss,mae\n",
      "61/61 [==============================] - 7s 114ms/step - loss: 0.0021 - mae: 0.0335\n",
      "Epoch 105/200\n",
      "61/61 [==============================] - ETA: 0s - loss: 0.0022 - mae: 0.0355WARNING:tensorflow:Early stopping conditioned on metric `val_loss` which is not available. Available metrics are: loss,mae\n",
      "61/61 [==============================] - 7s 116ms/step - loss: 0.0022 - mae: 0.0355\n",
      "Epoch 106/200\n",
      "61/61 [==============================] - ETA: 0s - loss: 0.0020 - mae: 0.0336WARNING:tensorflow:Early stopping conditioned on metric `val_loss` which is not available. Available metrics are: loss,mae\n",
      "61/61 [==============================] - 7s 116ms/step - loss: 0.0020 - mae: 0.0336\n",
      "Epoch 107/200\n",
      "61/61 [==============================] - ETA: 0s - loss: 0.0021 - mae: 0.0352WARNING:tensorflow:Early stopping conditioned on metric `val_loss` which is not available. Available metrics are: loss,mae\n",
      "61/61 [==============================] - 7s 115ms/step - loss: 0.0021 - mae: 0.0352\n",
      "Epoch 108/200\n",
      "61/61 [==============================] - ETA: 0s - loss: 0.0019 - mae: 0.0331WARNING:tensorflow:Early stopping conditioned on metric `val_loss` which is not available. Available metrics are: loss,mae\n",
      "61/61 [==============================] - 7s 117ms/step - loss: 0.0019 - mae: 0.0331\n",
      "Epoch 109/200\n",
      "61/61 [==============================] - ETA: 0s - loss: 0.0017 - mae: 0.0312WARNING:tensorflow:Early stopping conditioned on metric `val_loss` which is not available. Available metrics are: loss,mae\n",
      "61/61 [==============================] - 7s 116ms/step - loss: 0.0017 - mae: 0.0312\n",
      "Epoch 110/200\n",
      "61/61 [==============================] - ETA: 0s - loss: 0.0015 - mae: 0.0286WARNING:tensorflow:Early stopping conditioned on metric `val_loss` which is not available. Available metrics are: loss,mae\n",
      "61/61 [==============================] - 7s 115ms/step - loss: 0.0015 - mae: 0.0286\n",
      "Epoch 111/200\n"
     ]
    },
    {
     "name": "stdout",
     "output_type": "stream",
     "text": [
      "61/61 [==============================] - ETA: 0s - loss: 0.0020 - mae: 0.0337WARNING:tensorflow:Early stopping conditioned on metric `val_loss` which is not available. Available metrics are: loss,mae\n",
      "61/61 [==============================] - 7s 115ms/step - loss: 0.0020 - mae: 0.0337\n",
      "Epoch 112/200\n",
      "61/61 [==============================] - ETA: 0s - loss: 0.0024 - mae: 0.0368WARNING:tensorflow:Early stopping conditioned on metric `val_loss` which is not available. Available metrics are: loss,mae\n",
      "61/61 [==============================] - 7s 115ms/step - loss: 0.0024 - mae: 0.0368\n",
      "Epoch 113/200\n",
      "61/61 [==============================] - ETA: 0s - loss: 0.0027 - mae: 0.0383WARNING:tensorflow:Early stopping conditioned on metric `val_loss` which is not available. Available metrics are: loss,mae\n",
      "61/61 [==============================] - 7s 116ms/step - loss: 0.0027 - mae: 0.0383\n",
      "Epoch 114/200\n",
      "61/61 [==============================] - ETA: 0s - loss: 0.0035 - mae: 0.0453WARNING:tensorflow:Early stopping conditioned on metric `val_loss` which is not available. Available metrics are: loss,mae\n",
      "61/61 [==============================] - 7s 115ms/step - loss: 0.0035 - mae: 0.0453\n",
      "Epoch 115/200\n",
      "61/61 [==============================] - ETA: 0s - loss: 0.0028 - mae: 0.0417WARNING:tensorflow:Early stopping conditioned on metric `val_loss` which is not available. Available metrics are: loss,mae\n",
      "61/61 [==============================] - 7s 115ms/step - loss: 0.0028 - mae: 0.0417\n",
      "Epoch 116/200\n",
      "61/61 [==============================] - ETA: 0s - loss: 0.0023 - mae: 0.0367WARNING:tensorflow:Early stopping conditioned on metric `val_loss` which is not available. Available metrics are: loss,mae\n",
      "61/61 [==============================] - 7s 116ms/step - loss: 0.0023 - mae: 0.0367\n",
      "Epoch 117/200\n",
      "61/61 [==============================] - ETA: 0s - loss: 0.0014 - mae: 0.0272WARNING:tensorflow:Early stopping conditioned on metric `val_loss` which is not available. Available metrics are: loss,mae\n",
      "61/61 [==============================] - 7s 116ms/step - loss: 0.0014 - mae: 0.0272\n",
      "Epoch 118/200\n",
      "61/61 [==============================] - ETA: 0s - loss: 0.0012 - mae: 0.0263WARNING:tensorflow:Early stopping conditioned on metric `val_loss` which is not available. Available metrics are: loss,mae\n",
      "61/61 [==============================] - 7s 114ms/step - loss: 0.0012 - mae: 0.0263\n",
      "Epoch 119/200\n",
      "61/61 [==============================] - ETA: 0s - loss: 0.0015 - mae: 0.0288WARNING:tensorflow:Early stopping conditioned on metric `val_loss` which is not available. Available metrics are: loss,mae\n",
      "61/61 [==============================] - 7s 117ms/step - loss: 0.0015 - mae: 0.0288\n",
      "Epoch 120/200\n",
      "61/61 [==============================] - ETA: 0s - loss: 0.0017 - mae: 0.0314WARNING:tensorflow:Early stopping conditioned on metric `val_loss` which is not available. Available metrics are: loss,mae\n",
      "61/61 [==============================] - 7s 115ms/step - loss: 0.0017 - mae: 0.0314\n",
      "Epoch 121/200\n",
      "61/61 [==============================] - ETA: 0s - loss: 0.0026 - mae: 0.0393WARNING:tensorflow:Early stopping conditioned on metric `val_loss` which is not available. Available metrics are: loss,mae\n",
      "61/61 [==============================] - 7s 116ms/step - loss: 0.0026 - mae: 0.0393\n",
      "Epoch 122/200\n",
      "61/61 [==============================] - ETA: 0s - loss: 0.0025 - mae: 0.0383WARNING:tensorflow:Early stopping conditioned on metric `val_loss` which is not available. Available metrics are: loss,mae\n",
      "61/61 [==============================] - 7s 115ms/step - loss: 0.0025 - mae: 0.0383\n",
      "Epoch 123/200\n",
      "61/61 [==============================] - ETA: 0s - loss: 0.0020 - mae: 0.0338WARNING:tensorflow:Early stopping conditioned on metric `val_loss` which is not available. Available metrics are: loss,mae\n",
      "61/61 [==============================] - 7s 116ms/step - loss: 0.0020 - mae: 0.0338\n",
      "Epoch 124/200\n",
      "61/61 [==============================] - ETA: 0s - loss: 0.0021 - mae: 0.0347WARNING:tensorflow:Early stopping conditioned on metric `val_loss` which is not available. Available metrics are: loss,mae\n",
      "61/61 [==============================] - 7s 116ms/step - loss: 0.0021 - mae: 0.0347\n",
      "Epoch 125/200\n",
      "61/61 [==============================] - ETA: 0s - loss: 0.0016 - mae: 0.0307WARNING:tensorflow:Early stopping conditioned on metric `val_loss` which is not available. Available metrics are: loss,mae\n",
      "61/61 [==============================] - 7s 115ms/step - loss: 0.0016 - mae: 0.0307\n",
      "Epoch 126/200\n",
      "61/61 [==============================] - ETA: 0s - loss: 0.0014 - mae: 0.0282WARNING:tensorflow:Early stopping conditioned on metric `val_loss` which is not available. Available metrics are: loss,mae\n",
      "61/61 [==============================] - 7s 115ms/step - loss: 0.0014 - mae: 0.0282\n",
      "Epoch 127/200\n",
      "61/61 [==============================] - ETA: 0s - loss: 0.0021 - mae: 0.0355WARNING:tensorflow:Early stopping conditioned on metric `val_loss` which is not available. Available metrics are: loss,mae\n",
      "61/61 [==============================] - 7s 116ms/step - loss: 0.0021 - mae: 0.0355\n",
      "Epoch 128/200\n",
      "61/61 [==============================] - ETA: 0s - loss: 0.0015 - mae: 0.0296WARNING:tensorflow:Early stopping conditioned on metric `val_loss` which is not available. Available metrics are: loss,mae\n",
      "61/61 [==============================] - 7s 115ms/step - loss: 0.0015 - mae: 0.0296\n",
      "Epoch 129/200\n",
      "61/61 [==============================] - ETA: 0s - loss: 0.0011 - mae: 0.0253WARNING:tensorflow:Early stopping conditioned on metric `val_loss` which is not available. Available metrics are: loss,mae\n",
      "61/61 [==============================] - 7s 115ms/step - loss: 0.0011 - mae: 0.0253\n",
      "Epoch 130/200\n",
      "61/61 [==============================] - ETA: 0s - loss: 0.0014 - mae: 0.0280WARNING:tensorflow:Early stopping conditioned on metric `val_loss` which is not available. Available metrics are: loss,mae\n",
      "61/61 [==============================] - 7s 116ms/step - loss: 0.0014 - mae: 0.0280\n",
      "Epoch 131/200\n",
      "61/61 [==============================] - ETA: 0s - loss: 0.0015 - mae: 0.0295WARNING:tensorflow:Early stopping conditioned on metric `val_loss` which is not available. Available metrics are: loss,mae\n",
      "61/61 [==============================] - 7s 117ms/step - loss: 0.0015 - mae: 0.0295\n",
      "Epoch 132/200\n",
      "61/61 [==============================] - ETA: 0s - loss: 0.0023 - mae: 0.0349WARNING:tensorflow:Early stopping conditioned on metric `val_loss` which is not available. Available metrics are: loss,mae\n",
      "61/61 [==============================] - 7s 115ms/step - loss: 0.0023 - mae: 0.0349\n",
      "Epoch 133/200\n",
      "61/61 [==============================] - ETA: 0s - loss: 0.0026 - mae: 0.0368WARNING:tensorflow:Early stopping conditioned on metric `val_loss` which is not available. Available metrics are: loss,mae\n",
      "61/61 [==============================] - 7s 116ms/step - loss: 0.0026 - mae: 0.0368\n",
      "Epoch 134/200\n",
      "61/61 [==============================] - ETA: 0s - loss: 0.0024 - mae: 0.0379WARNING:tensorflow:Early stopping conditioned on metric `val_loss` which is not available. Available metrics are: loss,mae\n",
      "61/61 [==============================] - 7s 116ms/step - loss: 0.0024 - mae: 0.0379\n",
      "Epoch 135/200\n",
      "61/61 [==============================] - ETA: 0s - loss: 0.0016 - mae: 0.0306WARNING:tensorflow:Early stopping conditioned on metric `val_loss` which is not available. Available metrics are: loss,mae\n",
      "61/61 [==============================] - 7s 115ms/step - loss: 0.0016 - mae: 0.0306\n",
      "Epoch 136/200\n",
      "61/61 [==============================] - ETA: 0s - loss: 0.0018 - mae: 0.0322WARNING:tensorflow:Early stopping conditioned on metric `val_loss` which is not available. Available metrics are: loss,mae\n",
      "61/61 [==============================] - 7s 116ms/step - loss: 0.0018 - mae: 0.0322\n",
      "Epoch 137/200\n",
      "61/61 [==============================] - ETA: 0s - loss: 0.0016 - mae: 0.0294WARNING:tensorflow:Early stopping conditioned on metric `val_loss` which is not available. Available metrics are: loss,mae\n",
      "61/61 [==============================] - 7s 116ms/step - loss: 0.0016 - mae: 0.0294\n",
      "Epoch 138/200\n",
      "61/61 [==============================] - ETA: 0s - loss: 0.0017 - mae: 0.0317WARNING:tensorflow:Early stopping conditioned on metric `val_loss` which is not available. Available metrics are: loss,mae\n"
     ]
    },
    {
     "name": "stdout",
     "output_type": "stream",
     "text": [
      "61/61 [==============================] - 7s 116ms/step - loss: 0.0017 - mae: 0.0317\n",
      "Epoch 139/200\n",
      "61/61 [==============================] - ETA: 0s - loss: 0.0015 - mae: 0.0283WARNING:tensorflow:Early stopping conditioned on metric `val_loss` which is not available. Available metrics are: loss,mae\n",
      "61/61 [==============================] - 7s 116ms/step - loss: 0.0015 - mae: 0.0283\n",
      "Epoch 140/200\n",
      "61/61 [==============================] - ETA: 0s - loss: 0.0044 - mae: 0.0493WARNING:tensorflow:Early stopping conditioned on metric `val_loss` which is not available. Available metrics are: loss,mae\n",
      "61/61 [==============================] - 7s 116ms/step - loss: 0.0044 - mae: 0.0493\n",
      "Epoch 141/200\n",
      "61/61 [==============================] - ETA: 0s - loss: 0.0016 - mae: 0.0302WARNING:tensorflow:Early stopping conditioned on metric `val_loss` which is not available. Available metrics are: loss,mae\n",
      "61/61 [==============================] - 7s 115ms/step - loss: 0.0016 - mae: 0.0302\n",
      "Epoch 142/200\n",
      "61/61 [==============================] - ETA: 0s - loss: 0.0015 - mae: 0.0285WARNING:tensorflow:Early stopping conditioned on metric `val_loss` which is not available. Available metrics are: loss,mae\n",
      "61/61 [==============================] - 7s 116ms/step - loss: 0.0015 - mae: 0.0285\n",
      "Epoch 143/200\n",
      "61/61 [==============================] - ETA: 0s - loss: 0.0012 - mae: 0.0266WARNING:tensorflow:Early stopping conditioned on metric `val_loss` which is not available. Available metrics are: loss,mae\n",
      "61/61 [==============================] - 7s 115ms/step - loss: 0.0012 - mae: 0.0266\n",
      "Epoch 144/200\n",
      "61/61 [==============================] - ETA: 0s - loss: 0.0015 - mae: 0.0288WARNING:tensorflow:Early stopping conditioned on metric `val_loss` which is not available. Available metrics are: loss,mae\n",
      "61/61 [==============================] - 7s 115ms/step - loss: 0.0015 - mae: 0.0288\n",
      "Epoch 145/200\n",
      "61/61 [==============================] - ETA: 0s - loss: 0.0013 - mae: 0.0270WARNING:tensorflow:Early stopping conditioned on metric `val_loss` which is not available. Available metrics are: loss,mae\n",
      "61/61 [==============================] - 7s 116ms/step - loss: 0.0013 - mae: 0.0270\n",
      "Epoch 146/200\n",
      "61/61 [==============================] - ETA: 0s - loss: 0.0011 - mae: 0.0261WARNING:tensorflow:Early stopping conditioned on metric `val_loss` which is not available. Available metrics are: loss,mae\n",
      "61/61 [==============================] - 7s 114ms/step - loss: 0.0011 - mae: 0.0261\n",
      "Epoch 147/200\n",
      "61/61 [==============================] - ETA: 0s - loss: 0.0011 - mae: 0.0255WARNING:tensorflow:Early stopping conditioned on metric `val_loss` which is not available. Available metrics are: loss,mae\n",
      "61/61 [==============================] - 7s 115ms/step - loss: 0.0011 - mae: 0.0255\n",
      "Epoch 148/200\n",
      "61/61 [==============================] - ETA: 0s - loss: 0.0011 - mae: 0.0246WARNING:tensorflow:Early stopping conditioned on metric `val_loss` which is not available. Available metrics are: loss,mae\n",
      "61/61 [==============================] - 7s 117ms/step - loss: 0.0011 - mae: 0.0246\n",
      "Epoch 149/200\n",
      "61/61 [==============================] - ETA: 0s - loss: 0.0015 - mae: 0.0292WARNING:tensorflow:Early stopping conditioned on metric `val_loss` which is not available. Available metrics are: loss,mae\n",
      "61/61 [==============================] - 7s 116ms/step - loss: 0.0015 - mae: 0.0292\n",
      "Epoch 150/200\n",
      "61/61 [==============================] - ETA: 0s - loss: 9.2369e-04 - mae: 0.0234WARNING:tensorflow:Early stopping conditioned on metric `val_loss` which is not available. Available metrics are: loss,mae\n",
      "61/61 [==============================] - 7s 114ms/step - loss: 9.2369e-04 - mae: 0.0234\n",
      "Epoch 151/200\n",
      "61/61 [==============================] - ETA: 0s - loss: 0.0014 - mae: 0.0287WARNING:tensorflow:Early stopping conditioned on metric `val_loss` which is not available. Available metrics are: loss,mae\n",
      "61/61 [==============================] - 7s 115ms/step - loss: 0.0014 - mae: 0.0287\n",
      "Epoch 152/200\n",
      "61/61 [==============================] - ETA: 0s - loss: 0.0012 - mae: 0.0259WARNING:tensorflow:Early stopping conditioned on metric `val_loss` which is not available. Available metrics are: loss,mae\n",
      "61/61 [==============================] - 7s 115ms/step - loss: 0.0012 - mae: 0.0259\n",
      "Epoch 153/200\n",
      "61/61 [==============================] - ETA: 0s - loss: 0.0011 - mae: 0.0247WARNING:tensorflow:Early stopping conditioned on metric `val_loss` which is not available. Available metrics are: loss,mae\n",
      "61/61 [==============================] - 7s 115ms/step - loss: 0.0011 - mae: 0.0247\n",
      "Epoch 154/200\n",
      "61/61 [==============================] - ETA: 0s - loss: 9.3341e-04 - mae: 0.0235WARNING:tensorflow:Early stopping conditioned on metric `val_loss` which is not available. Available metrics are: loss,mae\n",
      "61/61 [==============================] - 7s 116ms/step - loss: 9.3341e-04 - mae: 0.0235\n",
      "Epoch 155/200\n",
      "61/61 [==============================] - ETA: 0s - loss: 9.1664e-04 - mae: 0.0232WARNING:tensorflow:Early stopping conditioned on metric `val_loss` which is not available. Available metrics are: loss,mae\n",
      "61/61 [==============================] - 7s 115ms/step - loss: 9.1664e-04 - mae: 0.0232\n",
      "Epoch 156/200\n",
      "61/61 [==============================] - ETA: 0s - loss: 0.0010 - mae: 0.0246WARNING:tensorflow:Early stopping conditioned on metric `val_loss` which is not available. Available metrics are: loss,mae\n",
      "61/61 [==============================] - 7s 115ms/step - loss: 0.0010 - mae: 0.0246\n",
      "Epoch 157/200\n",
      "61/61 [==============================] - ETA: 0s - loss: 0.0015 - mae: 0.0288WARNING:tensorflow:Early stopping conditioned on metric `val_loss` which is not available. Available metrics are: loss,mae\n",
      "61/61 [==============================] - 7s 115ms/step - loss: 0.0015 - mae: 0.0288\n",
      "Epoch 158/200\n",
      "61/61 [==============================] - ETA: 0s - loss: 0.0013 - mae: 0.0278WARNING:tensorflow:Early stopping conditioned on metric `val_loss` which is not available. Available metrics are: loss,mae\n",
      "61/61 [==============================] - 7s 116ms/step - loss: 0.0013 - mae: 0.0278\n",
      "Epoch 159/200\n",
      "61/61 [==============================] - ETA: 0s - loss: 0.0011 - mae: 0.0258WARNING:tensorflow:Early stopping conditioned on metric `val_loss` which is not available. Available metrics are: loss,mae\n",
      "61/61 [==============================] - 7s 115ms/step - loss: 0.0011 - mae: 0.0258\n",
      "Epoch 160/200\n",
      "61/61 [==============================] - ETA: 0s - loss: 0.0019 - mae: 0.0327WARNING:tensorflow:Early stopping conditioned on metric `val_loss` which is not available. Available metrics are: loss,mae\n",
      "61/61 [==============================] - 7s 121ms/step - loss: 0.0019 - mae: 0.0327\n",
      "Epoch 161/200\n",
      "61/61 [==============================] - ETA: 0s - loss: 0.0012 - mae: 0.0262WARNING:tensorflow:Early stopping conditioned on metric `val_loss` which is not available. Available metrics are: loss,mae\n",
      "61/61 [==============================] - 7s 117ms/step - loss: 0.0012 - mae: 0.0262\n",
      "Epoch 162/200\n",
      "61/61 [==============================] - ETA: 0s - loss: 0.0011 - mae: 0.0261WARNING:tensorflow:Early stopping conditioned on metric `val_loss` which is not available. Available metrics are: loss,mae\n",
      "61/61 [==============================] - 7s 113ms/step - loss: 0.0011 - mae: 0.0261\n",
      "Epoch 163/200\n",
      "61/61 [==============================] - ETA: 0s - loss: 0.0014 - mae: 0.0281WARNING:tensorflow:Early stopping conditioned on metric `val_loss` which is not available. Available metrics are: loss,mae\n",
      "61/61 [==============================] - 7s 119ms/step - loss: 0.0014 - mae: 0.0281\n",
      "Epoch 164/200\n",
      "61/61 [==============================] - ETA: 0s - loss: 0.0020 - mae: 0.0342WARNING:tensorflow:Early stopping conditioned on metric `val_loss` which is not available. Available metrics are: loss,mae\n",
      "61/61 [==============================] - 8s 133ms/step - loss: 0.0020 - mae: 0.0342\n",
      "Epoch 165/200\n",
      "61/61 [==============================] - ETA: 0s - loss: 0.0042 - mae: 0.0506WARNING:tensorflow:Early stopping conditioned on metric `val_loss` which is not available. Available metrics are: loss,mae\n",
      "61/61 [==============================] - 8s 127ms/step - loss: 0.0042 - mae: 0.0506\n",
      "Epoch 166/200\n"
     ]
    },
    {
     "name": "stdout",
     "output_type": "stream",
     "text": [
      "61/61 [==============================] - ETA: 0s - loss: 0.0019 - mae: 0.0340WARNING:tensorflow:Early stopping conditioned on metric `val_loss` which is not available. Available metrics are: loss,mae\n",
      "61/61 [==============================] - 7s 119ms/step - loss: 0.0019 - mae: 0.0340\n",
      "Epoch 167/200\n",
      "61/61 [==============================] - ETA: 0s - loss: 0.0056 - mae: 0.0507WARNING:tensorflow:Early stopping conditioned on metric `val_loss` which is not available. Available metrics are: loss,mae\n",
      "61/61 [==============================] - 7s 121ms/step - loss: 0.0056 - mae: 0.0507\n",
      "Epoch 168/200\n",
      "61/61 [==============================] - ETA: 0s - loss: 0.0096 - mae: 0.0742WARNING:tensorflow:Early stopping conditioned on metric `val_loss` which is not available. Available metrics are: loss,mae\n",
      "61/61 [==============================] - 7s 120ms/step - loss: 0.0096 - mae: 0.0742\n",
      "Epoch 169/200\n",
      "61/61 [==============================] - ETA: 0s - loss: 0.0029 - mae: 0.0397WARNING:tensorflow:Early stopping conditioned on metric `val_loss` which is not available. Available metrics are: loss,mae\n",
      "61/61 [==============================] - 7s 121ms/step - loss: 0.0029 - mae: 0.0397\n",
      "Epoch 170/200\n",
      "61/61 [==============================] - ETA: 0s - loss: 0.0015 - mae: 0.0299WARNING:tensorflow:Early stopping conditioned on metric `val_loss` which is not available. Available metrics are: loss,mae\n",
      "61/61 [==============================] - 7s 119ms/step - loss: 0.0015 - mae: 0.0299\n",
      "Epoch 171/200\n",
      "61/61 [==============================] - ETA: 0s - loss: 9.7169e-04 - mae: 0.0239WARNING:tensorflow:Early stopping conditioned on metric `val_loss` which is not available. Available metrics are: loss,mae\n",
      "61/61 [==============================] - 7s 121ms/step - loss: 9.7169e-04 - mae: 0.0239\n",
      "Epoch 172/200\n",
      "61/61 [==============================] - ETA: 0s - loss: 0.0010 - mae: 0.0241WARNING:tensorflow:Early stopping conditioned on metric `val_loss` which is not available. Available metrics are: loss,mae\n",
      "61/61 [==============================] - 7s 119ms/step - loss: 0.0010 - mae: 0.0241\n",
      "Epoch 173/200\n",
      "61/61 [==============================] - ETA: 0s - loss: 9.7371e-04 - mae: 0.0230WARNING:tensorflow:Early stopping conditioned on metric `val_loss` which is not available. Available metrics are: loss,mae\n",
      "61/61 [==============================] - 7s 120ms/step - loss: 9.7371e-04 - mae: 0.0230\n",
      "Epoch 174/200\n",
      "61/61 [==============================] - ETA: 0s - loss: 0.0012 - mae: 0.0272WARNING:tensorflow:Early stopping conditioned on metric `val_loss` which is not available. Available metrics are: loss,mae\n",
      "61/61 [==============================] - 7s 121ms/step - loss: 0.0012 - mae: 0.0272\n",
      "Epoch 175/200\n",
      "61/61 [==============================] - ETA: 0s - loss: 8.9837e-04 - mae: 0.0224WARNING:tensorflow:Early stopping conditioned on metric `val_loss` which is not available. Available metrics are: loss,mae\n",
      "61/61 [==============================] - 7s 120ms/step - loss: 8.9837e-04 - mae: 0.0224\n",
      "Epoch 176/200\n",
      "61/61 [==============================] - ETA: 0s - loss: 7.5005e-04 - mae: 0.0204WARNING:tensorflow:Early stopping conditioned on metric `val_loss` which is not available. Available metrics are: loss,mae\n",
      "61/61 [==============================] - 7s 120ms/step - loss: 7.5005e-04 - mae: 0.0204\n",
      "Epoch 177/200\n",
      "61/61 [==============================] - ETA: 0s - loss: 6.4503e-04 - mae: 0.0200WARNING:tensorflow:Early stopping conditioned on metric `val_loss` which is not available. Available metrics are: loss,mae\n",
      "61/61 [==============================] - 7s 119ms/step - loss: 6.4503e-04 - mae: 0.0200\n",
      "Epoch 178/200\n",
      "61/61 [==============================] - ETA: 0s - loss: 7.4316e-04 - mae: 0.0211WARNING:tensorflow:Early stopping conditioned on metric `val_loss` which is not available. Available metrics are: loss,mae\n",
      "61/61 [==============================] - 7s 119ms/step - loss: 7.4316e-04 - mae: 0.0211\n",
      "Epoch 179/200\n",
      "61/61 [==============================] - ETA: 0s - loss: 6.6923e-04 - mae: 0.0198WARNING:tensorflow:Early stopping conditioned on metric `val_loss` which is not available. Available metrics are: loss,mae\n",
      "61/61 [==============================] - 7s 119ms/step - loss: 6.6923e-04 - mae: 0.0198\n",
      "Epoch 180/200\n",
      "61/61 [==============================] - ETA: 0s - loss: 7.3084e-04 - mae: 0.0207WARNING:tensorflow:Early stopping conditioned on metric `val_loss` which is not available. Available metrics are: loss,mae\n",
      "61/61 [==============================] - 7s 118ms/step - loss: 7.3084e-04 - mae: 0.0207\n",
      "Epoch 181/200\n",
      "61/61 [==============================] - ETA: 0s - loss: 0.0010 - mae: 0.0245WARNING:tensorflow:Early stopping conditioned on metric `val_loss` which is not available. Available metrics are: loss,mae\n",
      "61/61 [==============================] - 8s 125ms/step - loss: 0.0010 - mae: 0.0245\n",
      "Epoch 182/200\n",
      "61/61 [==============================] - ETA: 0s - loss: 9.1175e-04 - mae: 0.0231WARNING:tensorflow:Early stopping conditioned on metric `val_loss` which is not available. Available metrics are: loss,mae\n",
      "61/61 [==============================] - 7s 123ms/step - loss: 9.1175e-04 - mae: 0.0231\n",
      "Epoch 183/200\n",
      "61/61 [==============================] - ETA: 0s - loss: 7.4402e-04 - mae: 0.0211WARNING:tensorflow:Early stopping conditioned on metric `val_loss` which is not available. Available metrics are: loss,mae\n",
      "61/61 [==============================] - 7s 120ms/step - loss: 7.4402e-04 - mae: 0.0211\n",
      "Epoch 184/200\n",
      "61/61 [==============================] - ETA: 0s - loss: 6.6666e-04 - mae: 0.0199WARNING:tensorflow:Early stopping conditioned on metric `val_loss` which is not available. Available metrics are: loss,mae\n",
      "61/61 [==============================] - 7s 119ms/step - loss: 6.6666e-04 - mae: 0.0199\n",
      "Epoch 185/200\n",
      "61/61 [==============================] - ETA: 0s - loss: 8.5254e-04 - mae: 0.0218WARNING:tensorflow:Early stopping conditioned on metric `val_loss` which is not available. Available metrics are: loss,mae\n",
      "61/61 [==============================] - 7s 116ms/step - loss: 8.5254e-04 - mae: 0.0218\n",
      "Epoch 186/200\n",
      "61/61 [==============================] - ETA: 0s - loss: 0.0013 - mae: 0.0267WARNING:tensorflow:Early stopping conditioned on metric `val_loss` which is not available. Available metrics are: loss,mae\n",
      "61/61 [==============================] - 7s 112ms/step - loss: 0.0013 - mae: 0.0267\n",
      "Epoch 187/200\n",
      "61/61 [==============================] - ETA: 0s - loss: 0.0014 - mae: 0.0292WARNING:tensorflow:Early stopping conditioned on metric `val_loss` which is not available. Available metrics are: loss,mae\n",
      "61/61 [==============================] - 7s 113ms/step - loss: 0.0014 - mae: 0.0292\n",
      "Epoch 188/200\n",
      "61/61 [==============================] - ETA: 0s - loss: 0.0016 - mae: 0.0300WARNING:tensorflow:Early stopping conditioned on metric `val_loss` which is not available. Available metrics are: loss,mae\n",
      "61/61 [==============================] - 7s 113ms/step - loss: 0.0016 - mae: 0.0300\n",
      "Epoch 189/200\n",
      "61/61 [==============================] - ETA: 0s - loss: 0.0013 - mae: 0.0279WARNING:tensorflow:Early stopping conditioned on metric `val_loss` which is not available. Available metrics are: loss,mae\n",
      "61/61 [==============================] - 7s 111ms/step - loss: 0.0013 - mae: 0.0279\n",
      "Epoch 190/200\n",
      "61/61 [==============================] - ETA: 0s - loss: 0.0021 - mae: 0.0353WARNING:tensorflow:Early stopping conditioned on metric `val_loss` which is not available. Available metrics are: loss,mae\n",
      "61/61 [==============================] - 7s 113ms/step - loss: 0.0021 - mae: 0.0353\n",
      "Epoch 191/200\n",
      "61/61 [==============================] - ETA: 0s - loss: 0.0018 - mae: 0.0332WARNING:tensorflow:Early stopping conditioned on metric `val_loss` which is not available. Available metrics are: loss,mae\n",
      "61/61 [==============================] - 7s 112ms/step - loss: 0.0018 - mae: 0.0332\n",
      "Epoch 192/200\n",
      "61/61 [==============================] - ETA: 0s - loss: 8.9859e-04 - mae: 0.0233WARNING:tensorflow:Early stopping conditioned on metric `val_loss` which is not available. Available metrics are: loss,mae\n",
      "61/61 [==============================] - 7s 111ms/step - loss: 8.9859e-04 - mae: 0.0233\n",
      "Epoch 193/200\n"
     ]
    },
    {
     "name": "stdout",
     "output_type": "stream",
     "text": [
      "61/61 [==============================] - ETA: 0s - loss: 8.3331e-04 - mae: 0.0221WARNING:tensorflow:Early stopping conditioned on metric `val_loss` which is not available. Available metrics are: loss,mae\n",
      "61/61 [==============================] - 7s 120ms/step - loss: 8.3331e-04 - mae: 0.0221\n",
      "Epoch 194/200\n",
      "61/61 [==============================] - ETA: 0s - loss: 8.1280e-04 - mae: 0.0222WARNING:tensorflow:Early stopping conditioned on metric `val_loss` which is not available. Available metrics are: loss,mae\n",
      "61/61 [==============================] - 7s 114ms/step - loss: 8.1280e-04 - mae: 0.0222\n",
      "Epoch 195/200\n",
      "61/61 [==============================] - ETA: 0s - loss: 6.4681e-04 - mae: 0.0197WARNING:tensorflow:Early stopping conditioned on metric `val_loss` which is not available. Available metrics are: loss,mae\n",
      "61/61 [==============================] - 7s 110ms/step - loss: 6.4681e-04 - mae: 0.0197\n",
      "Epoch 196/200\n",
      "61/61 [==============================] - ETA: 0s - loss: 9.1009e-04 - mae: 0.0235WARNING:tensorflow:Early stopping conditioned on metric `val_loss` which is not available. Available metrics are: loss,mae\n",
      "61/61 [==============================] - 7s 110ms/step - loss: 9.1009e-04 - mae: 0.0235\n",
      "Epoch 197/200\n",
      "61/61 [==============================] - ETA: 0s - loss: 6.8755e-04 - mae: 0.0208WARNING:tensorflow:Early stopping conditioned on metric `val_loss` which is not available. Available metrics are: loss,mae\n",
      "61/61 [==============================] - 7s 118ms/step - loss: 6.8755e-04 - mae: 0.0208\n",
      "Epoch 198/200\n",
      "61/61 [==============================] - ETA: 0s - loss: 7.7328e-04 - mae: 0.0204WARNING:tensorflow:Early stopping conditioned on metric `val_loss` which is not available. Available metrics are: loss,mae\n",
      "61/61 [==============================] - 8s 129ms/step - loss: 7.7328e-04 - mae: 0.0204\n",
      "Epoch 199/200\n",
      "61/61 [==============================] - ETA: 0s - loss: 0.0023 - mae: 0.0369WARNING:tensorflow:Early stopping conditioned on metric `val_loss` which is not available. Available metrics are: loss,mae\n",
      "61/61 [==============================] - 8s 125ms/step - loss: 0.0023 - mae: 0.0369\n",
      "Epoch 200/200\n",
      "61/61 [==============================] - ETA: 0s - loss: 0.0017 - mae: 0.0320WARNING:tensorflow:Early stopping conditioned on metric `val_loss` which is not available. Available metrics are: loss,mae\n",
      "61/61 [==============================] - 7s 118ms/step - loss: 0.0017 - mae: 0.0320\n"
     ]
    },
    {
     "data": {
      "text/plain": [
       "<tensorflow.python.keras.callbacks.History at 0x11fa17fed48>"
      ]
     },
     "execution_count": 16,
     "metadata": {},
     "output_type": "execute_result"
    }
   ],
   "source": [
    "early_stopping = EarlyStopping(monitor='val_loss', patience=50, verbose=2)\n",
    "model_1.fit(X,y,epochs=200,batch_size=5,callbacks=[early_stopping])"
   ]
  },
  {
   "cell_type": "code",
   "execution_count": 17,
   "metadata": {},
   "outputs": [],
   "source": [
    "res = model_1.predict(X)"
   ]
  },
  {
   "cell_type": "code",
   "execution_count": 18,
   "metadata": {},
   "outputs": [
    {
     "data": {
      "text/plain": [
       "[<matplotlib.lines.Line2D at 0x11f9dd86fc8>]"
      ]
     },
     "execution_count": 18,
     "metadata": {},
     "output_type": "execute_result"
    },
    {
     "data": {
      "image/png": "[encoded data removed]",
      "text/plain": [
       "<Figure size 432x288 with 1 Axes>"
      ]
     },
     "metadata": {
      "needs_background": "light"
     },
     "output_type": "display_data"
    }
   ],
   "source": [
    "plt.plot(Scaler.inverse_transform(res))\n",
    "plt.plot(Scaler.inverse_transform(y))"
   ]
  },
  {
   "cell_type": "code",
   "execution_count": 19,
   "metadata": {},
   "outputs": [],
   "source": [
    "res = Scaler.inverse_transform(res)\n",
    "res = pd.DataFrame(res)\n",
    "res.to_csv('E:\\\\毕业设计\\\\毕业\\\\V0\\\\data\\\\容量预测结果_全CNN模型.csv',index=False,encoding=\"utf_8_sig\")"
   ]
  },
  {
   "cell_type": "code",
   "execution_count": 20,
   "metadata": {},
   "outputs": [],
   "source": [
    "model_1.save('E:\\\\毕业设计\\\\毕业\\\\V0\\\\data\\model\\\\full_cnn.h5')"
   ]
  },
  {
   "cell_type": "markdown",
   "metadata": {},
   "source": [
    "# CNN+LSTM混合模型"
   ]
  },
  {
   "cell_type": "markdown",
   "metadata": {},
   "source": [
    "混合模型需要训练好长时间才能效果好，至少要几百个轮次"
   ]
  },
  {
   "cell_type": "code",
   "execution_count": null,
   "metadata": {},
   "outputs": [],
   "source": [
    "import numpy as np\n",
    "import pandas as pd\n",
    "import tensorflow.keras as keras\n",
    "from tensorflow.keras.layers import concatenate, LSTM, Conv1D, Conv2D, Flatten, TimeDistributed, Input, Dense, MaxPooling1D, MaxPooling2D, Dropout, Activation\n",
    "from tensorflow.keras import models\n",
    "from tensorflow.keras.utils import plot_model\n",
    "from tensorflow.keras import optimizers\n",
    "import matplotlib.pyplot as plt\n",
    "from sklearn.preprocessing import MinMaxScaler\n",
    "from keras.callbacks import EarlyStopping"
   ]
  },
  {
   "cell_type": "code",
   "execution_count": null,
   "metadata": {},
   "outputs": [],
   "source": [
    "X = np.load('E:\\\\毕业设计\\\\毕业\\\\V0\\\\data\\\\data_processed\\\\X.npy')\n",
    "y = np.load('E:\\\\毕业设计\\\\毕业\\\\V0\\\\data\\\\data_processed\\\\y.npy')"
   ]
  },
  {
   "cell_type": "code",
   "execution_count": null,
   "metadata": {},
   "outputs": [],
   "source": [
    "Scaler = MinMaxScaler()\n",
    "X = X.reshape(-1,1)\n",
    "X = Scaler.fit_transform(X)\n",
    "X = X.reshape(304,1000,10,6)\n",
    "y = y.reshape(-1,1)\n",
    "y = Scaler.fit_transform(y)"
   ]
  },
  {
   "cell_type": "code",
   "execution_count": null,
   "metadata": {},
   "outputs": [],
   "source": [
    "#X = np.expand_dims(X, axis=-1)\n",
    "#X.shape"
   ]
  },
  {
   "cell_type": "code",
   "execution_count": null,
   "metadata": {},
   "outputs": [],
   "source": [
    "model_2 = models.Sequential()"
   ]
  },
  {
   "cell_type": "code",
   "execution_count": null,
   "metadata": {},
   "outputs": [],
   "source": [
    "model_2.add(TimeDistributed(Conv1D(64,9, activation='relu',padding='same', input_shape=(1000,10,6))))"
   ]
  },
  {
   "cell_type": "code",
   "execution_count": null,
   "metadata": {},
   "outputs": [],
   "source": [
    "model_2.add(TimeDistributed(MaxPooling1D()))"
   ]
  },
  {
   "cell_type": "code",
   "execution_count": null,
   "metadata": {},
   "outputs": [],
   "source": [
    "model_2.add(TimeDistributed(Conv1D(128,9, activation='relu',padding='same')))"
   ]
  },
  {
   "cell_type": "code",
   "execution_count": null,
   "metadata": {},
   "outputs": [],
   "source": [
    "model_2.add(TimeDistributed(MaxPooling1D()))"
   ]
  },
  {
   "cell_type": "code",
   "execution_count": null,
   "metadata": {},
   "outputs": [],
   "source": [
    "model_2.add(TimeDistributed(Conv1D(128,9, activation='relu',padding='same')))"
   ]
  },
  {
   "cell_type": "code",
   "execution_count": null,
   "metadata": {},
   "outputs": [],
   "source": [
    "model_2.add(TimeDistributed(Flatten())) "
   ]
  },
  {
   "cell_type": "code",
   "execution_count": null,
   "metadata": {},
   "outputs": [],
   "source": [
    "model_2.add(Dropout(0.5)) "
   ]
  },
  {
   "cell_type": "code",
   "execution_count": null,
   "metadata": {},
   "outputs": [],
   "source": [
    "model_2.add(LSTM(units=128, return_sequences=True))"
   ]
  },
  {
   "cell_type": "code",
   "execution_count": null,
   "metadata": {},
   "outputs": [],
   "source": [
    "model_2.add(LSTM(units=50, return_sequences=False))"
   ]
  },
  {
   "cell_type": "code",
   "execution_count": null,
   "metadata": {},
   "outputs": [],
   "source": [
    "#model.add(Dense(128,activation='relu'))\n",
    "#model.add(Dense(64,activation='relu'))\n",
    "model_2.add(Dense(1,activation='relu'))"
   ]
  },
  {
   "cell_type": "code",
   "execution_count": null,
   "metadata": {},
   "outputs": [],
   "source": [
    "model_2.compile(optimizer=optimizers.Adam(lr=0.0001),\n",
    "               loss='mse',\n",
    "               metrics=['mae'])"
   ]
  },
  {
   "cell_type": "code",
   "execution_count": null,
   "metadata": {
    "scrolled": true
   },
   "outputs": [],
   "source": [
    "early_stopping = EarlyStopping(monitor='val_loss', patience=50, verbose=2)\n",
    "model_2.fit(X,y,epochs=1,batch_size=5,callbacks=[early_stopping])"
   ]
  },
  {
   "cell_type": "code",
   "execution_count": null,
   "metadata": {},
   "outputs": [],
   "source": [
    "res = model.predict(X)"
   ]
  },
  {
   "cell_type": "code",
   "execution_count": null,
   "metadata": {},
   "outputs": [],
   "source": [
    "plt.plot(Scaler.inverse_transform(res))\n",
    "plt.plot(Scaler.inverse_transform(y))"
   ]
  },
  {
   "cell_type": "code",
   "execution_count": null,
   "metadata": {},
   "outputs": [],
   "source": [
    "res = Scaler.inverse_transform(res)\n",
    "res = pd.DataFrame(res)\n",
    "res.to_csv('E:\\\\毕业设计\\\\毕业\\\\V0\\\\data\\\\容量预测结果_混合模型.csv',index=False,encoding=\"utf_8_sig\")"
   ]
  },
  {
   "cell_type": "code",
   "execution_count": null,
   "metadata": {},
   "outputs": [],
   "source": [
    "model_2.save('E:\\\\毕业设计\\\\毕业\\\\V0\\\\data\\model\\\\cnn+lstm.h5')"
   ]
  },
  {
   "cell_type": "code",
   "execution_count": null,
   "metadata": {},
   "outputs": [],
   "source": []
  }
 ],
 "metadata": {
  "kernelspec": {
   "display_name": "Python 3",
   "language": "python",
   "name": "python3"
  },
  "language_info": {
   "codemirror_mode": {
    "name": "ipython",
    "version": 3
   },
   "file_extension": ".py",
   "mimetype": "text/x-python",
   "name": "python",
   "nbconvert_exporter": "python",
   "pygments_lexer": "ipython3",
   "version": "3.7.9"
  }
 },
 "nbformat": 4,
 "nbformat_minor": 4
}
